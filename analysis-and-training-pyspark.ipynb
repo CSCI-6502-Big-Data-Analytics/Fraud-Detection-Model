{
 "cells": [
  {
   "cell_type": "code",
   "execution_count": 128,
   "metadata": {},
   "outputs": [],
   "source": [
    "import os, sys\n",
    "import pandas as pd\n",
    "import matplotlib.pyplot as plt\n",
    "import seaborn as sns\n",
    "from sklearn.model_selection import train_test_split\n",
    "from sklearn.linear_model import LogisticRegression\n",
    "import numpy as np\n",
    "%matplotlib inline\n",
    "\n",
    "DATASET_DIR = '../kaggle-dataset'"
   ]
  },
  {
   "cell_type": "code",
   "execution_count": 2,
   "metadata": {},
   "outputs": [],
   "source": [
    "# train_df = pd.read_csv(os.path.join(DATASET_DIR, 'train.csv'))\n",
    "# train_df = train_df.drop(['Unnamed: 0'], axis=1)\n",
    "\n",
    "# neg_df = train_df.loc[train_df['Class']==0]\n",
    "# pos_df = train_df.loc[train_df['Class']==1]"
   ]
  },
  {
   "cell_type": "code",
   "execution_count": 101,
   "metadata": {},
   "outputs": [],
   "source": [
    "# from pyspark import SparkContext, SparkConf\n",
    "# from pyspark.sql import SparkSession\n",
    "# from pyspark.sql.functions import desc\n",
    "\n",
    "# spark = SparkSession \\\n",
    "#     .builder \\\n",
    "#     .appName(\"Lab4-Dataframe\") \\\n",
    "#     .master(\"local[*]\")\\\n",
    "#     .getOrCreate()"
   ]
  },
  {
   "cell_type": "code",
   "execution_count": 187,
   "metadata": {},
   "outputs": [],
   "source": [
    "from pyspark.sql import SparkSession\n",
    "spark = SparkSession.builder.appName('fraud-detection').master(\"local[*]\").getOrCreate()"
   ]
  },
  {
   "cell_type": "code",
   "execution_count": 201,
   "metadata": {
    "scrolled": true
   },
   "outputs": [
    {
     "name": "stdout",
     "output_type": "stream",
     "text": [
      "+---+-----+-------------------+------------------+-------------------+---------------+------------------+-------------------+-------------------+----------------+-----------------+-------------------+----------------+-----------------+------------------+-----------------+-------------------+-----------------+-----------------+-------------------+------------------+-----------------+-----------------+-------------------+--------------------+-----------------+------------------+-----------------+-------------------+------------------+------+-----+\n",
      "|_c0| Time|                 V1|                V2|                 V3|             V4|                V5|                 V6|                 V7|              V8|               V9|                V10|             V11|              V12|               V13|              V14|                V15|              V16|              V17|                V18|               V19|              V20|              V21|                V22|                 V23|              V24|               V25|              V26|                V27|               V28|Amount|label|\n",
      "+---+-----+-------------------+------------------+-------------------+---------------+------------------+-------------------+-------------------+----------------+-----------------+-------------------+----------------+-----------------+------------------+-----------------+-------------------+-----------------+-----------------+-------------------+------------------+-----------------+-----------------+-------------------+--------------------+-----------------+------------------+-----------------+-------------------+------------------+------+-----+\n",
      "|  0|406.0|-2.3122265423262998|1.9519920106415802|-1.6098507322976898|3.9979055875468|-0.522187864667764|-1.4265453192059498|-2.5373873062457903|1.39165724829804|-2.77008927719433|-2.7722721446591496|3.20203320709635|-2.89990738849473|-0.595221881324605|-4.28925378244217|0.38972412027448705|-1.14074717980657|-2.83005567450437|-0.0168224681808257|0.4169557050379071|0.126910559061474|0.517232370861764|-0.0350493686052974|-0.46521107618238794|0.320198198514526|0.0445191674731724|0.177839798284401|0.26114500256767703|-0.143275874698919|   0.0|    1|\n",
      "+---+-----+-------------------+------------------+-------------------+---------------+------------------+-------------------+-------------------+----------------+-----------------+-------------------+----------------+-----------------+------------------+-----------------+-------------------+-----------------+-----------------+-------------------+------------------+-----------------+-----------------+-------------------+--------------------+-----------------+------------------+-----------------+-------------------+------------------+------+-----+\n",
      "only showing top 1 row\n",
      "\n",
      "['_c0', 'Time', 'V1', 'V2', 'V3', 'V4', 'V5', 'V6', 'V7', 'V8', 'V9', 'V10', 'V11', 'V12', 'V13', 'V14', 'V15', 'V16', 'V17', 'V18', 'V19', 'V20', 'V21', 'V22', 'V23', 'V24', 'V25', 'V26', 'V27', 'V28', 'Amount', 'label']\n"
     ]
    }
   ],
   "source": [
    "from pyspark.sql.types import FloatType\n",
    "\n",
    "spark_df = spark.read.csv(os.path.join(DATASET_DIR, 'train.csv'), header = True, inferSchema = True)\n",
    "# spark_df = spark_df.drop('_c0')\n",
    "spark_df = spark_df.withColumnRenamed('Class', 'label')\n",
    "spark_df.show(1)\n",
    "\n",
    "for col in spark_df.columns:\n",
    "    spark_df = spark_df.withColumn(col, spark_df[col].cast(FloatType()))\n",
    "\n",
    "pos_spark_df = spark_df.filter(spark_df.label == 1)\n",
    "neg_spark_df = spark_df.filter(spark_df.label == 0)\n",
    "neg_spark_df_2 = neg_spark_df.limit(pos_spark_df.count())\n",
    "\n",
    "spark_df_balanced = pos_spark_df.union(neg_spark_df_2)\n",
    "spark_df_unbalanced = pos_spark_df.union(neg_spark_df)\n",
    "print(spark_df_balanced.columns)\n",
    "# print(spark_df_unbalanced.count())"
   ]
  },
  {
   "cell_type": "code",
   "execution_count": 202,
   "metadata": {},
   "outputs": [
    {
     "name": "stdout",
     "output_type": "stream",
     "text": [
      "['_c0', 'Time', 'V1', 'V2', 'V3', 'V4', 'V5', 'V6', 'V7', 'V8', 'V9', 'V10', 'V11', 'V12', 'V13', 'V14', 'V15', 'V16', 'V17', 'V18', 'V19', 'V20', 'V21', 'V22', 'V23', 'V24', 'V25', 'V26', 'V27', 'V28', 'Amount', 'label']\n"
     ]
    }
   ],
   "source": [
    "all_columns = spark_df_balanced.columns\n",
    "print(all_columns)"
   ]
  },
  {
   "cell_type": "code",
   "execution_count": 203,
   "metadata": {},
   "outputs": [
    {
     "name": "stdout",
     "output_type": "stream",
     "text": [
      "['Time', 'V1', 'V2', 'V3', 'V4', 'V5', 'V6', 'V7', 'V8', 'V9', 'V10', 'V11', 'V12', 'V13', 'V14', 'V15', 'V16', 'V17', 'V18', 'V19', 'V20', 'V21', 'V22', 'V23', 'V24', 'V25', 'V26', 'V27', 'V28', 'Amount']\n"
     ]
    }
   ],
   "source": [
    "from pyspark.ml.feature import VectorAssembler\n",
    "from pyspark.ml import Pipeline\n",
    "\n",
    "stages = []\n",
    "all_input_cols = all_columns[1:-1]\n",
    "print(all_input_cols)\n",
    "assembler = VectorAssembler(inputCols=all_inputs_cols, outputCol=\"features\")\n",
    "stages += [assembler]\n",
    "\n",
    "\n",
    "pipeline = Pipeline(stages = stages)\n",
    "pipelineModel = pipeline.fit(spark_df_balanced)\n",
    "pipelineModel.write().overwrite().save('saves/pipelineModelBalanced')\n",
    "spark_df_balanced_2 = pipelineModel.transform(spark_df_balanced)\n",
    "selectedCols = ['label', 'features'] + all_input_cols\n",
    "spark_df_balanced_2 = spark_df_balanced_2.select(selectedCols)\n",
    "# spark_df_balanced_2.printSchema()"
   ]
  },
  {
   "cell_type": "code",
   "execution_count": 204,
   "metadata": {},
   "outputs": [],
   "source": [
    "from pyspark.ml import PipelineModel\n",
    "\n",
    "pipelineModelLoaded = PipelineModel.load(\"saves/pipelineModelBalanced\")\n",
    "spark_df_balanced_2 = pipelineModelLoaded.transform(spark_df_balanced)\n",
    "selectedCols = ['label', 'features'] + all_input_cols\n",
    "spark_df_balanced_2 = spark_df_balanced_2.select(selectedCols)"
   ]
  },
  {
   "cell_type": "code",
   "execution_count": 205,
   "metadata": {},
   "outputs": [
    {
     "name": "stdout",
     "output_type": "stream",
     "text": [
      "Training Dataset Count: 884\n",
      "Test Dataset Count: 100\n"
     ]
    }
   ],
   "source": [
    "train, test = spark_df_balanced_2.randomSplit([0.9, 0.1], seed = 2018)\n",
    "print(\"Training Dataset Count: \" + str(train.count()))\n",
    "print(\"Test Dataset Count: \" + str(test.count()))\n",
    "# print(test.show(5))"
   ]
  },
  {
   "cell_type": "code",
   "execution_count": 206,
   "metadata": {},
   "outputs": [],
   "source": [
    "from pyspark.ml.classification import LogisticRegression, LogisticRegressionModel\n",
    "save_path = 'saves/LRBalancedModel'\n",
    "\n",
    "lr = LogisticRegression(featuresCol = 'features', labelCol = 'label', maxIter=10)\n",
    "lrModel = lr.fit(train)\n",
    "lrModel.write().overwrite().save(save_path)"
   ]
  },
  {
   "cell_type": "code",
   "execution_count": 207,
   "metadata": {},
   "outputs": [
    {
     "data": {
      "image/png": "[encoded data removed]",
      "text/plain": [
       "<Figure size 432x288 with 1 Axes>"
      ]
     },
     "metadata": {
      "needs_background": "light"
     },
     "output_type": "display_data"
    }
   ],
   "source": [
    "import matplotlib.pyplot as plt\n",
    "import numpy as np\n",
    "\n",
    "beta = np.sort(lrModel.coefficients)\n",
    "\n",
    "plt.plot(beta)\n",
    "plt.ylabel('Beta Coefficients')\n",
    "plt.show()"
   ]
  },
  {
   "cell_type": "code",
   "execution_count": 208,
   "metadata": {},
   "outputs": [
    {
     "data": {
      "image/png": "[encoded data removed]",
      "text/plain": [
       "<Figure size 432x288 with 1 Axes>"
      ]
     },
     "metadata": {
      "needs_background": "light"
     },
     "output_type": "display_data"
    },
    {
     "name": "stdout",
     "output_type": "stream",
     "text": [
      "Training set areaUnderROC: 1.0\n"
     ]
    }
   ],
   "source": [
    "trainingSummary = lrModel.summary\n",
    "\n",
    "roc = trainingSummary.roc.toPandas()\n",
    "plt.plot(roc['FPR'],roc['TPR'])\n",
    "plt.ylabel('False Positive Rate')\n",
    "plt.xlabel('True Positive Rate')\n",
    "plt.title('ROC Curve')\n",
    "plt.show()\n",
    "\n",
    "print('Training set areaUnderROC: ' + str(trainingSummary.areaUnderROC))\n"
   ]
  },
  {
   "cell_type": "code",
   "execution_count": 215,
   "metadata": {
    "scrolled": true
   },
   "outputs": [
    {
     "name": "stdout",
     "output_type": "stream",
     "text": [
      "DataFrame[prediction: double]\n"
     ]
    }
   ],
   "source": [
    "from pyspark.ml.classification import LogisticRegression, LogisticRegressionModel\n",
    "\n",
    "# read pickled model\n",
    "persistedModel = LogisticRegressionModel.load(save_path)\n",
    "\n",
    "# predict\n",
    "predictions = persistedModel.transform(test)\n",
    "print(predictions.select('prediction'))\n",
    "# predictions.select('prediction').show(100)"
   ]
  },
  {
   "cell_type": "code",
   "execution_count": 210,
   "metadata": {},
   "outputs": [
    {
     "name": "stdout",
     "output_type": "stream",
     "text": [
      "Test Area Under ROC 1.0\n"
     ]
    }
   ],
   "source": [
    "from pyspark.ml.evaluation import BinaryClassificationEvaluator\n",
    "\n",
    "evaluator = BinaryClassificationEvaluator()\n",
    "print('Test Area Under ROC', evaluator.evaluate(predictions))"
   ]
  },
  {
   "cell_type": "code",
   "execution_count": 127,
   "metadata": {},
   "outputs": [
    {
     "name": "stdout",
     "output_type": "stream",
     "text": [
      "Test Area Under ROC 0.9979402056141705\n"
     ]
    }
   ],
   "source": [
    "from pyspark.ml.tuning import ParamGridBuilder, CrossValidator\n",
    "\n",
    "# Create ParamGrid for Cross Validation\n",
    "paramGrid = (ParamGridBuilder()\n",
    "             .addGrid(lr.regParam, [0.01, 0.5, 2.0])\n",
    "             .addGrid(lr.elasticNetParam, [0.0, 0.5, 1.0])\n",
    "             .addGrid(lr.maxIter, [1, 5, 10])\n",
    "             .build())\n",
    "\n",
    "cv = CrossValidator(estimator=lr, estimatorParamMaps=paramGrid, evaluator=evaluator, numFolds=5)\n",
    "\n",
    "cvModel = cv.fit(train)\n",
    "predictions = cvModel.transform(test)\n",
    "print('Test Area Under ROC', evaluator.evaluate(predictions))"
   ]
  },
  {
   "cell_type": "code",
   "execution_count": null,
   "metadata": {},
   "outputs": [],
   "source": []
  },
  {
   "cell_type": "code",
   "execution_count": null,
   "metadata": {},
   "outputs": [],
   "source": []
  },
  {
   "cell_type": "markdown",
   "metadata": {},
   "source": [
    "### Unbalanced Model"
   ]
  },
  {
   "cell_type": "code",
   "execution_count": 145,
   "metadata": {},
   "outputs": [],
   "source": [
    "pipelineUnbalancedModel = pipeline.fit(spark_df_unbalanced)\n",
    "spark_df_unbalanced_2 = pipelineUnbalancedModel.transform(spark_df_unbalanced)\n",
    "selectedCols = ['label', 'features'] + all_input_cols\n",
    "spark_df_unbalanced_2 = spark_df_unbalanced_2.select(selectedCols)\n",
    "# spark_df_balanced_2.printSchema()"
   ]
  },
  {
   "cell_type": "code",
   "execution_count": 150,
   "metadata": {},
   "outputs": [
    {
     "name": "stdout",
     "output_type": "stream",
     "text": [
      "Training Dataset Count: 230994\n",
      "Test Dataset Count: 25824\n"
     ]
    }
   ],
   "source": [
    "train_unbalanced, test_unbalanced = spark_df_unbalanced_2.randomSplit([0.9, 0.1], seed = 2021)\n",
    "print(\"Training Dataset Count: \" + str(train_unbalanced.count()))\n",
    "print(\"Test Dataset Count: \" + str(test_unbalanced.count()))\n",
    "\n",
    "lrUnbalancedModel = lr.fit(train_unbalanced)\n",
    "lrModel.save('saves/LRUnbalancedModel')"
   ]
  },
  {
   "cell_type": "code",
   "execution_count": 151,
   "metadata": {},
   "outputs": [
    {
     "data": {
      "image/png": "[encoded data removed]",
      "text/plain": [
       "<Figure size 432x288 with 1 Axes>"
      ]
     },
     "metadata": {
      "needs_background": "light"
     },
     "output_type": "display_data"
    }
   ],
   "source": [
    "import matplotlib.pyplot as plt\n",
    "import numpy as np\n",
    "\n",
    "beta = np.sort(lrUnbalancedModel.coefficients)\n",
    "\n",
    "plt.plot(beta)\n",
    "plt.ylabel('Beta Coefficients')\n",
    "plt.show()"
   ]
  },
  {
   "cell_type": "code",
   "execution_count": 149,
   "metadata": {},
   "outputs": [
    {
     "data": {
      "image/png": "[encoded data removed]",
      "text/plain": [
       "<Figure size 432x288 with 1 Axes>"
      ]
     },
     "metadata": {
      "needs_background": "light"
     },
     "output_type": "display_data"
    },
    {
     "name": "stdout",
     "output_type": "stream",
     "text": [
      "Training set areaUnderROC: 0.9985986932041188\n"
     ]
    }
   ],
   "source": [
    "trainingSummary = lrUnbalancedModel.summary\n",
    "\n",
    "roc = trainingSummary.roc.toPandas()\n",
    "plt.plot(roc['FPR'],roc['TPR'])\n",
    "plt.ylabel('False Positive Rate')\n",
    "plt.xlabel('True Positive Rate')\n",
    "plt.title('ROC Curve')\n",
    "plt.show()\n",
    "\n",
    "print('Training set areaUnderROC: ' + str(trainingSummary.areaUnderROC))"
   ]
  },
  {
   "cell_type": "code",
   "execution_count": 156,
   "metadata": {},
   "outputs": [],
   "source": [
    "from pyspark.sql.functions import rand \n",
    "test_randomized = test.orderBy(rand())"
   ]
  },
  {
   "cell_type": "code",
   "execution_count": 157,
   "metadata": {},
   "outputs": [
    {
     "name": "stdout",
     "output_type": "stream",
     "text": [
      "+-----+\n",
      "|label|\n",
      "+-----+\n",
      "|    1|\n",
      "|    0|\n",
      "|    1|\n",
      "|    0|\n",
      "|    1|\n",
      "|    0|\n",
      "|    1|\n",
      "|    1|\n",
      "|    1|\n",
      "|    1|\n",
      "+-----+\n",
      "only showing top 10 rows\n",
      "\n"
     ]
    }
   ],
   "source": [
    "from pyspark.ml.classification import LogisticRegression, LogisticRegressionModel\n",
    "\n",
    "# read pickled model\n",
    "persistedUnbalancedModel = LogisticRegressionModel.load('saves/LRUnbalancedModel')\n",
    "\n",
    "# predict\n",
    "predictions = persistedUnbalancedModel.transform(test_randomized)\n",
    "predictions.select('label').show(10)"
   ]
  },
  {
   "cell_type": "code",
   "execution_count": null,
   "metadata": {},
   "outputs": [],
   "source": []
  }
 ],
 "metadata": {
  "kernelspec": {
   "display_name": "Python 3",
   "language": "python",
   "name": "python3"
  },
  "language_info": {
   "codemirror_mode": {
    "name": "ipython",
    "version": 3
   },
   "file_extension": ".py",
   "mimetype": "text/x-python",
   "name": "python",
   "nbconvert_exporter": "python",
   "pygments_lexer": "ipython3",
   "version": "3.7.4"
  }
 },
 "nbformat": 4,
 "nbformat_minor": 2
}
