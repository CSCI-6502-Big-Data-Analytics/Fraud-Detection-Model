{
 "cells": [
  {
   "cell_type": "code",
   "execution_count": 1,
   "metadata": {},
   "outputs": [],
   "source": [
    "import os, sys\n",
    "import pandas as pd\n",
    "import matplotlib.pyplot as plt\n",
    "import seaborn as sns\n",
    "from sklearn.model_selection import train_test_split\n",
    "from sklearn.linear_model import LogisticRegression\n",
    "import numpy as np\n",
    "%matplotlib inline"
   ]
  },
  {
   "cell_type": "code",
   "execution_count": 2,
   "metadata": {},
   "outputs": [],
   "source": [
    "DATASET_DIR = '../kaggle-dataset'\n",
    "train_df = pd.read_csv(os.path.join(DATASET_DIR, 'train.csv'))\n",
    "train_df = train_df.drop(['Unnamed: 0'], axis=1)\n",
    "\n",
    "neg_df = train_df.loc[train_df['Class']==0]\n",
    "pos_df = train_df.loc[train_df['Class']==1]"
   ]
  },
  {
   "cell_type": "code",
   "execution_count": 3,
   "metadata": {},
   "outputs": [
    {
     "name": "stdout",
     "output_type": "stream",
     "text": [
      "(256818, 31)\n"
     ]
    }
   ],
   "source": [
    "print(train_df.shape)"
   ]
  },
  {
   "cell_type": "code",
   "execution_count": 153,
   "metadata": {},
   "outputs": [
    {
     "data": {
      "text/plain": [
       "<matplotlib.axes._subplots.AxesSubplot at 0x7fb474f85bd0>"
      ]
     },
     "execution_count": 153,
     "metadata": {},
     "output_type": "execute_result"
    },
    {
     "data": {
      "image/png": "[encoded data removed]",
      "text/plain": [
       "<Figure size 432x288 with 2 Axes>"
      ]
     },
     "metadata": {
      "needs_background": "light"
     },
     "output_type": "display_data"
    }
   ],
   "source": [
    "sns.heatmap(train_df.isnull())"
   ]
  },
  {
   "cell_type": "code",
   "execution_count": 154,
   "metadata": {
    "scrolled": true
   },
   "outputs": [
    {
     "name": "stdout",
     "output_type": "stream",
     "text": [
      "<class 'pandas.core.frame.DataFrame'>\n",
      "RangeIndex: 256818 entries, 0 to 256817\n",
      "Data columns (total 31 columns):\n",
      "Time      256818 non-null float64\n",
      "V1        256818 non-null float64\n",
      "V2        256818 non-null float64\n",
      "V3        256818 non-null float64\n",
      "V4        256818 non-null float64\n",
      "V5        256818 non-null float64\n",
      "V6        256818 non-null float64\n",
      "V7        256818 non-null float64\n",
      "V8        256818 non-null float64\n",
      "V9        256818 non-null float64\n",
      "V10       256818 non-null float64\n",
      "V11       256818 non-null float64\n",
      "V12       256818 non-null float64\n",
      "V13       256818 non-null float64\n",
      "V14       256818 non-null float64\n",
      "V15       256818 non-null float64\n",
      "V16       256818 non-null float64\n",
      "V17       256818 non-null float64\n",
      "V18       256818 non-null float64\n",
      "V19       256818 non-null float64\n",
      "V20       256818 non-null float64\n",
      "V21       256818 non-null float64\n",
      "V22       256818 non-null float64\n",
      "V23       256818 non-null float64\n",
      "V24       256818 non-null float64\n",
      "V25       256818 non-null float64\n",
      "V26       256818 non-null float64\n",
      "V27       256818 non-null float64\n",
      "V28       256818 non-null float64\n",
      "Amount    256818 non-null float64\n",
      "Class     256818 non-null int64\n",
      "dtypes: float64(30), int64(1)\n",
      "memory usage: 60.7 MB\n",
      "None\n"
     ]
    }
   ],
   "source": [
    "print(train_df.info())"
   ]
  },
  {
   "cell_type": "code",
   "execution_count": 155,
   "metadata": {
    "scrolled": true
   },
   "outputs": [
    {
     "name": "stdout",
     "output_type": "stream",
     "text": [
      "                Time             V1             V2             V3  \\\n",
      "count  256818.000000  256818.000000  256818.000000  256818.000000   \n",
      "mean    87209.152941      -0.027306      -0.017934       0.078733   \n",
      "std     43710.283714       1.958919       1.664602       1.509397   \n",
      "min         0.000000     -56.407510     -72.715728     -33.680984   \n",
      "25%     51075.000000      -0.931600      -0.609322      -0.756624   \n",
      "50%     78699.000000       0.004976       0.059733       0.273872   \n",
      "75%    129777.750000       1.276037       0.783669       1.086048   \n",
      "max    170348.000000       2.454930      22.057729       9.382558   \n",
      "\n",
      "                  V4             V5             V6             V7  \\\n",
      "count  256818.000000  256818.000000  256818.000000  256818.000000   \n",
      "mean        0.018974      -0.031005       0.014631      -0.013405   \n",
      "std         1.416288       1.372970       1.325974       1.225849   \n",
      "min        -5.683171     -42.147898     -26.160506     -43.557242   \n",
      "25%        -0.840985      -0.721489      -0.752248      -0.563523   \n",
      "50%         0.007549      -0.087986      -0.254957       0.024008   \n",
      "75%         0.784471       0.575317       0.417135       0.551394   \n",
      "max        16.875344      34.801666      22.529298      36.877368   \n",
      "\n",
      "                  V8             V9  ...            V21            V22  \\\n",
      "count  256818.000000  256818.000000  ...  256818.000000  256818.000000   \n",
      "mean        0.001579       0.000423  ...      -0.001127      -0.008028   \n",
      "std         1.195888       1.109942  ...       0.738116       0.718665   \n",
      "min       -73.216718     -13.434066  ...     -34.830382     -10.933144   \n",
      "25%        -0.202915      -0.653693  ...      -0.225628      -0.535281   \n",
      "50%         0.027638      -0.056794  ...      -0.030342       0.001444   \n",
      "75%         0.329854       0.606258  ...       0.179440       0.505572   \n",
      "max        20.007208      15.594995  ...      27.202839      10.503090   \n",
      "\n",
      "                 V23            V24            V25            V26  \\\n",
      "count  256818.000000  256818.000000  256818.000000  256818.000000   \n",
      "mean       -0.004686       0.001026       0.016467       0.001142   \n",
      "std         0.633251       0.605748       0.516486       0.484770   \n",
      "min       -44.807735      -2.836627     -10.295397      -2.604551   \n",
      "25%        -0.164274      -0.351066      -0.297483      -0.329448   \n",
      "50%        -0.016664       0.044280       0.044467      -0.058159   \n",
      "75%         0.138650       0.433913       0.361956       0.246654   \n",
      "max        22.528412       4.022866       7.519589       3.517346   \n",
      "\n",
      "                 V27            V28         Amount          Class  \n",
      "count  256818.000000  256818.000000  256818.000000  256818.000000  \n",
      "mean       -0.000579       0.000697      90.379500       0.001916  \n",
      "std         0.401471       0.330512     250.538108       0.043727  \n",
      "min       -22.565679     -11.710896       0.000000       0.000000  \n",
      "25%        -0.070663      -0.051100       5.990000       0.000000  \n",
      "50%         0.002006       0.013349      22.960000       0.000000  \n",
      "75%         0.089269       0.077756      79.420000       0.000000  \n",
      "max        12.152401      33.847808   19656.530000       1.000000  \n",
      "\n",
      "[8 rows x 31 columns]\n"
     ]
    }
   ],
   "source": [
    "print(train_df.describe())"
   ]
  },
  {
   "cell_type": "code",
   "execution_count": 4,
   "metadata": {},
   "outputs": [
    {
     "name": "stdout",
     "output_type": "stream",
     "text": [
      "(255867, 31)\n"
     ]
    }
   ],
   "source": [
    "train_df_copy = train_df.copy()\n",
    "train_df_copy.drop_duplicates(subset=None, inplace=True)\n",
    "print(train_df_copy.shape)"
   ]
  },
  {
   "cell_type": "code",
   "execution_count": 5,
   "metadata": {},
   "outputs": [],
   "source": [
    "train_df = train_df_copy"
   ]
  },
  {
   "cell_type": "code",
   "execution_count": 6,
   "metadata": {},
   "outputs": [],
   "source": [
    "# pos_df.head()\n",
    "spearman_corr = train_df.corr(method='spearman')\n",
    "pearson_corr = train_df.corr(method='pearson')"
   ]
  },
  {
   "cell_type": "markdown",
   "metadata": {},
   "source": [
    "##### Spearman correlation interpretation\n",
    "\n",
    ".00-.19 “very weak”\n",
    "\n",
    ".20-.39 “weak”\n",
    "\n",
    ".40-.59 “moderate”\n",
    "\n",
    ".60-.79 “strong”\n",
    "\n",
    ".80-1.0 “very strong"
   ]
  },
  {
   "cell_type": "code",
   "execution_count": 159,
   "metadata": {},
   "outputs": [
    {
     "name": "stdout",
     "output_type": "stream",
     "text": [
      "[('V21', 'V22'), ('V22', 'V21')]\n",
      "[]\n"
     ]
    }
   ],
   "source": [
    "# Strong correlation\n",
    "pos_corr_pairs = []\n",
    "neg_corr_pairs = []\n",
    "\n",
    "for col in spearman_corr:\n",
    "    for row, value in spearman_corr[col].iteritems():\n",
    "        if row!=col and value>=0.6:\n",
    "            pos_corr_pairs.append((col,row))\n",
    "        if row!=col and value<=-0.6:\n",
    "            neg_corr_pairs.append((col,row))\n",
    "            \n",
    "\n",
    "print(pos_corr_pairs)\n",
    "print(neg_corr_pairs)"
   ]
  },
  {
   "cell_type": "code",
   "execution_count": 160,
   "metadata": {},
   "outputs": [
    {
     "name": "stdout",
     "output_type": "stream",
     "text": [
      "[('V2', 'V7'), ('V5', 'V7'), ('V6', 'V8'), ('V7', 'V2'), ('V7', 'V5'), ('V8', 'V6'), ('V27', 'V28'), ('V28', 'V27')]\n",
      "[('Time', 'V3'), ('V1', 'V3'), ('V2', 'Amount'), ('V3', 'Time'), ('V3', 'V1'), ('V23', 'V25'), ('V25', 'V23'), ('Amount', 'V2')]\n"
     ]
    }
   ],
   "source": [
    "# Moderate correlation.\n",
    "pos_corr_pairs = []\n",
    "neg_corr_pairs = []\n",
    "\n",
    "for col in spearman_corr:\n",
    "    for row, value in spearman_corr[col].iteritems():\n",
    "        if row!=col and 0.4<=value<0.6:\n",
    "            pos_corr_pairs.append((col,row))\n",
    "        if row!=col and -0.4>=value>-0.6:\n",
    "            neg_corr_pairs.append((col,row))\n",
    "            \n",
    "\n",
    "print(pos_corr_pairs)\n",
    "print(neg_corr_pairs)"
   ]
  },
  {
   "cell_type": "code",
   "execution_count": 161,
   "metadata": {
    "scrolled": true
   },
   "outputs": [
    {
     "name": "stderr",
     "output_type": "stream",
     "text": [
      "/Users/madhuaithal/anaconda3/lib/python3.7/site-packages/ipykernel_launcher.py:3: UserWarning: To output multiple subplots, the figure containing the passed axes is being cleared\n",
      "  This is separate from the ipykernel package so we can avoid doing imports until\n"
     ]
    },
    {
     "data": {
      "image/png": "[encoded data removed]",
      "text/plain": [
       "<Figure size 2160x2160 with 36 Axes>"
      ]
     },
     "metadata": {
      "needs_background": "light"
     },
     "output_type": "display_data"
    }
   ],
   "source": [
    "fig = plt.figure(figsize = (30,30))\n",
    "ax = fig.gca()\n",
    "hist = train_df.hist(ax=ax)\n",
    "plt.show()"
   ]
  },
  {
   "cell_type": "code",
   "execution_count": 190,
   "metadata": {},
   "outputs": [
    {
     "name": "stdout",
     "output_type": "stream",
     "text": [
      "230280\n",
      "              precision    recall  f1-score   support\n",
      "\n",
      "           0       1.00      1.00      1.00     25553\n",
      "           1       0.66      0.68      0.67        34\n",
      "\n",
      "    accuracy                           1.00     25587\n",
      "   macro avg       0.83      0.84      0.83     25587\n",
      "weighted avg       1.00      1.00      1.00     25587\n",
      "\n"
     ]
    },
    {
     "name": "stderr",
     "output_type": "stream",
     "text": [
      "/Users/madhuaithal/anaconda3/lib/python3.7/site-packages/sklearn/linear_model/_logistic.py:764: ConvergenceWarning: lbfgs failed to converge (status=1):\n",
      "STOP: TOTAL NO. of ITERATIONS REACHED LIMIT.\n",
      "\n",
      "Increase the number of iterations (max_iter) or scale the data as shown in:\n",
      "    https://scikit-learn.org/stable/modules/preprocessing.html\n",
      "Please also refer to the documentation for alternative solver options:\n",
      "    https://scikit-learn.org/stable/modules/linear_model.html#logistic-regression\n",
      "  extra_warning_msg=_LOGISTIC_SOLVER_CONVERGENCE_MSG)\n"
     ]
    }
   ],
   "source": [
    "X_train, X_test, y_train, y_test = train_test_split(train_df.drop('Class',axis=1), \n",
    "                                                    train_df['Class'], test_size=0.10, \n",
    "                                                    random_state=2309)\n",
    "print(len(X_train))\n",
    "logmodel = LogisticRegression()\n",
    "logmodel.fit(X_train,y_train)\n",
    "predictions = logmodel.predict(X_test)\n",
    "\n",
    "\n",
    "from sklearn.metrics import classification_report\n",
    "print(classification_report(y_test,predictions))"
   ]
  },
  {
   "cell_type": "code",
   "execution_count": 221,
   "metadata": {},
   "outputs": [
    {
     "data": {
      "image/png": "[encoded data removed]",
      "text/plain": [
       "<Figure size 576x360 with 2 Axes>"
      ]
     },
     "metadata": {
      "needs_background": "light"
     },
     "output_type": "display_data"
    }
   ],
   "source": [
    "from sklearn.metrics import confusion_matrix\n",
    "\n",
    "conf_matrix=confusion_matrix(y_test,predictions)\n",
    "conf_matrix_df=pd.DataFrame(data=conf_matrix,columns=['Predicted:0','Predicted:1'],index=['Actual:0','Actual:1'])\n",
    "plt.figure(figsize = (8,5))\n",
    "sns.heatmap(conf_matrix, annot=True,fmt='d');"
   ]
  },
  {
   "cell_type": "code",
   "execution_count": 192,
   "metadata": {},
   "outputs": [
    {
     "name": "stdout",
     "output_type": "stream",
     "text": [
      "precision 0.6571428571428571\n",
      "recall 0.6764705882352942\n",
      "F1 score 0.6666666666666666\n"
     ]
    }
   ],
   "source": [
    "TN=conf_matrix[0,0]\n",
    "TP=conf_matrix[1,1]\n",
    "FN=conf_matrix[1,0]\n",
    "FP=conf_matrix[0,1]\n",
    "\n",
    "precision = TP/float(TP+FP)\n",
    "recall=TP/float(TP+FN)\n",
    "TNR=TN/float(TN+FP)\n",
    "f1_score = 2*precision*recall/(precision+recall)\n",
    "\n",
    "print(\"precision\", precision)\n",
    "print('recall', recall)\n",
    "print('F1 score', f1_score)"
   ]
  },
  {
   "cell_type": "code",
   "execution_count": 165,
   "metadata": {},
   "outputs": [
    {
     "name": "stdout",
     "output_type": "stream",
     "text": [
      "The acuuracy of the model = TP+TN/(TP+TN+FP+FN) =           0.999101106030406 \n",
      " The Missclassification = 1-Accuracy =                      0.0008988939695939724 \n",
      " Sensitivity or True Positive Rate = TP/(TP+FN) =           0.6764705882352942 \n",
      " Specificity or True Negative Rate = TN/(TN+FP) =           0.9995303878213908 \n",
      " Precision (PPV) = TP/(TP+FP) =                             0.6571428571428571 \n",
      " Precision for negative class (NPV) = TN/(TN+FN) =          0.9995695053224797 \n",
      " Positive Likelihood Ratio = Sensitivity/(1-Specificity) =  1440.48774509796 \n",
      " Negative likelihood Ratio = (1-Sensitivity)/Specificity =  0.3236814164998837\n"
     ]
    }
   ],
   "source": [
    "print('The acuuracy of the model = TP+TN/(TP+TN+FP+FN) =          ',(TP+TN)/float(TP+TN+FP+FN),'\\n',\n",
    "\n",
    "'The Missclassification = 1-Accuracy =                     ',1-((TP+TN)/float(TP+TN+FP+FN)),'\\n',\n",
    "\n",
    "'Sensitivity or True Positive Rate = TP/(TP+FN) =          ',TP/float(TP+FN),'\\n',\n",
    "\n",
    "'Specificity or True Negative Rate = TN/(TN+FP) =          ',TN/float(TN+FP),'\\n',\n",
    "\n",
    "'Precision (PPV) = TP/(TP+FP) =                            ',TP/float(TP+FP),'\\n',\n",
    "\n",
    "'Precision for negative class (NPV) = TN/(TN+FN) =         ',TN/float(TN+FN),'\\n',\n",
    "\n",
    "'Positive Likelihood Ratio = Sensitivity/(1-Specificity) = ',recall/(1-TNR),'\\n',\n",
    "\n",
    "'Negative likelihood Ratio = (1-Sensitivity)/Specificity = ',(1-recall)/TNR)"
   ]
  },
  {
   "cell_type": "code",
   "execution_count": 10,
   "metadata": {},
   "outputs": [
    {
     "name": "stdout",
     "output_type": "stream",
     "text": [
      "(984, 31)\n"
     ]
    }
   ],
   "source": [
    "train_df_balanced = pd.concat([neg_df[:len(pos_df)], pos_df], ignore_index=True)\n",
    "\n",
    "print(train_df_balanced.shape)"
   ]
  },
  {
   "cell_type": "code",
   "execution_count": 274,
   "metadata": {
    "scrolled": true
   },
   "outputs": [
    {
     "name": "stdout",
     "output_type": "stream",
     "text": [
      "              precision    recall  f1-score   support\n",
      "\n",
      "           0       1.00      0.95      0.97        58\n",
      "           1       0.93      1.00      0.96        41\n",
      "\n",
      "    accuracy                           0.97        99\n",
      "   macro avg       0.97      0.97      0.97        99\n",
      "weighted avg       0.97      0.97      0.97        99\n",
      "\n"
     ]
    },
    {
     "name": "stderr",
     "output_type": "stream",
     "text": [
      "/Users/madhuaithal/anaconda3/lib/python3.7/site-packages/sklearn/linear_model/_logistic.py:764: ConvergenceWarning: lbfgs failed to converge (status=1):\n",
      "STOP: TOTAL NO. of ITERATIONS REACHED LIMIT.\n",
      "\n",
      "Increase the number of iterations (max_iter) or scale the data as shown in:\n",
      "    https://scikit-learn.org/stable/modules/preprocessing.html\n",
      "Please also refer to the documentation for alternative solver options:\n",
      "    https://scikit-learn.org/stable/modules/linear_model.html#logistic-regression\n",
      "  extra_warning_msg=_LOGISTIC_SOLVER_CONVERGENCE_MSG)\n"
     ]
    }
   ],
   "source": [
    "X_train_balanced, X_test_balanced, y_train_balanced, y_test_balanced = \\\n",
    "                                            train_test_split(train_df_balanced.drop('Class',axis=1), \n",
    "                                            train_df_balanced['Class'], \n",
    "                                            test_size=0.10, \n",
    "#                                                     solver='saga',\n",
    "                                            random_state=2309)\n",
    "# print(len(X_train_balanced))\n",
    "\n",
    "from sklearn import preprocessing\n",
    "X_without_time = X_train_balanced.drop('Time',axis=1).values\n",
    "scaler = preprocessing.StandardScaler().fit(X_without_time)\n",
    "X_without_time = scaler.transform(X_without_time)\n",
    "X_time_only = np.expand_dims(X_train_balanced['Time'].values, axis=1)\n",
    "\n",
    "# print(np.expand_dims(X_train_balanced['Time'].values, axis=1).shape)\n",
    "# print(X_without_time.shape)\n",
    "\n",
    "X_train_scaled = np.concatenate([X_time_only,X_without_time],axis=1)\n",
    "\n",
    "# print(X_train_scaled.shape)\n",
    "# X_train_scaled = X_train_balanced\n",
    "# print(X_train_scaled)\n",
    "\n",
    "logmodel_balanced = LogisticRegression()\n",
    "logmodel_balanced.fit(X_train_scaled,y_train_balanced)\n",
    "\n",
    "predictions_balanced = logmodel_balanced.predict(X_test_balanced)\n",
    "\n",
    "\n",
    "from sklearn.metrics import classification_report\n",
    "print(classification_report(y_test_balanced,predictions_balanced))\n",
    "\n"
   ]
  },
  {
   "cell_type": "code",
   "execution_count": null,
   "metadata": {},
   "outputs": [],
   "source": []
  },
  {
   "cell_type": "code",
   "execution_count": 275,
   "metadata": {},
   "outputs": [
    {
     "data": {
      "image/png": "[encoded data removed]",
      "text/plain": [
       "<Figure size 576x360 with 2 Axes>"
      ]
     },
     "metadata": {
      "needs_background": "light"
     },
     "output_type": "display_data"
    }
   ],
   "source": [
    "from sklearn.metrics import confusion_matrix\n",
    "\n",
    "conf_matrix=confusion_matrix(y_test_balanced,predictions_balanced)\n",
    "conf_matrix_df=pd.DataFrame(data=conf_matrix,columns=['Predicted:0','Predicted:1'],index=['Actual:0','Actual:1'])\n",
    "plt.figure(figsize = (8,5))\n",
    "sns.heatmap(conf_matrix, annot=True,fmt='d');"
   ]
  },
  {
   "cell_type": "code",
   "execution_count": 276,
   "metadata": {},
   "outputs": [
    {
     "name": "stdout",
     "output_type": "stream",
     "text": [
      "precision 0.9318181818181818\n",
      "recall 1.0\n",
      "F1 score 0.9647058823529412\n"
     ]
    }
   ],
   "source": [
    "TN=conf_matrix[0,0]\n",
    "TP=conf_matrix[1,1]\n",
    "FN=conf_matrix[1,0]\n",
    "FP=conf_matrix[0,1]\n",
    "\n",
    "precision = TP/float(TP+FP)\n",
    "recall=TP/float(TP+FN)\n",
    "TNR=TN/float(TN+FP)\n",
    "f1_score = 2*precision*recall/(precision+recall)\n",
    "\n",
    "print(\"precision\", precision)\n",
    "print('recall', recall)\n",
    "print('F1 score', f1_score)"
   ]
  },
  {
   "cell_type": "code",
   "execution_count": 277,
   "metadata": {},
   "outputs": [
    {
     "name": "stdout",
     "output_type": "stream",
     "text": [
      "The acuuracy of the model = TP+TN/(TP+TN+FP+FN) =           0.9696969696969697 \n",
      " The Missclassification = 1-Accuracy =                      0.030303030303030276 \n",
      " Sensitivity or True Positive Rate = TP/(TP+FN) =           1.0 \n",
      " Specificity or True Negative Rate = TN/(TN+FP) =           0.9482758620689655 \n",
      " Precision (PPV) = TP/(TP+FP) =                             0.9318181818181818 \n",
      " Precision for negative class (NPV) = TN/(TN+FN) =          1.0 \n",
      " Positive Likelihood Ratio = Sensitivity/(1-Specificity) =  19.333333333333336 \n",
      " Negative likelihood Ratio = (1-Sensitivity)/Specificity =  0.0\n"
     ]
    }
   ],
   "source": [
    "print('The acuuracy of the model = TP+TN/(TP+TN+FP+FN) =          ',(TP+TN)/float(TP+TN+FP+FN),'\\n',\n",
    "\n",
    "'The Missclassification = 1-Accuracy =                     ',1-((TP+TN)/float(TP+TN+FP+FN)),'\\n',\n",
    "\n",
    "'Sensitivity or True Positive Rate = TP/(TP+FN) =          ',TP/float(TP+FN),'\\n',\n",
    "\n",
    "'Specificity or True Negative Rate = TN/(TN+FP) =          ',TN/float(TN+FP),'\\n',\n",
    "\n",
    "'Precision (PPV) = TP/(TP+FP) =                            ',TP/float(TP+FP),'\\n',\n",
    "\n",
    "'Precision for negative class (NPV) = TN/(TN+FN) =         ',TN/float(TN+FN),'\\n',\n",
    "\n",
    "'Positive Likelihood Ratio = Sensitivity/(1-Specificity) = ',recall/(1-TNR),'\\n',\n",
    "\n",
    "'Negative likelihood Ratio = (1-Sensitivity)/Specificity = ',(1-recall)/TNR)"
   ]
  },
  {
   "cell_type": "code",
   "execution_count": 278,
   "metadata": {},
   "outputs": [],
   "source": [
    "y_pred_prob_positive=logmodel_balanced.predict_proba(X_test_balanced)\n",
    "# print(y_pred_prob_positive)\n",
    "# print(sum(y_pred_prob_positive[0]))"
   ]
  },
  {
   "cell_type": "code",
   "execution_count": 279,
   "metadata": {},
   "outputs": [
    {
     "name": "stdout",
     "output_type": "stream",
     "text": [
      "Threshold = 0.0 \n",
      "Confusion Matrix:  \n",
      " [[ 0 58]\n",
      " [ 0 41]] \n",
      " 41 correct predictions and 0 False Negatives \n",
      "\n",
      " Sensitivity (TPR):  1.0 Specificity (TNR):  0.0 \n",
      "\n",
      "\n",
      "\n",
      "Threshold = 0.1 \n",
      "Confusion Matrix:  \n",
      " [[49  9]\n",
      " [ 0 41]] \n",
      " 90 correct predictions and 0 False Negatives \n",
      "\n",
      " Sensitivity (TPR):  1.0 Specificity (TNR):  0.8448275862068966 \n",
      "\n",
      "\n",
      "\n",
      "Threshold = 0.2 \n",
      "Confusion Matrix:  \n",
      " [[51  7]\n",
      " [ 0 41]] \n",
      " 92 correct predictions and 0 False Negatives \n",
      "\n",
      " Sensitivity (TPR):  1.0 Specificity (TNR):  0.8793103448275862 \n",
      "\n",
      "\n",
      "\n",
      "Threshold = 0.3 \n",
      "Confusion Matrix:  \n",
      " [[52  6]\n",
      " [ 0 41]] \n",
      " 93 correct predictions and 0 False Negatives \n",
      "\n",
      " Sensitivity (TPR):  1.0 Specificity (TNR):  0.896551724137931 \n",
      "\n",
      "\n",
      "\n",
      "Threshold = 0.4 \n",
      "Confusion Matrix:  \n",
      " [[53  5]\n",
      " [ 0 41]] \n",
      " 94 correct predictions and 0 False Negatives \n",
      "\n",
      " Sensitivity (TPR):  1.0 Specificity (TNR):  0.9137931034482759 \n",
      "\n",
      "\n",
      "\n",
      "Threshold = 0.5 \n",
      "Confusion Matrix:  \n",
      " [[55  3]\n",
      " [ 0 41]] \n",
      " 96 correct predictions and 0 False Negatives \n",
      "\n",
      " Sensitivity (TPR):  1.0 Specificity (TNR):  0.9482758620689655 \n",
      "\n",
      "\n",
      "\n",
      "Threshold = 0.6 \n",
      "Confusion Matrix:  \n",
      " [[55  3]\n",
      " [ 0 41]] \n",
      " 96 correct predictions and 0 False Negatives \n",
      "\n",
      " Sensitivity (TPR):  1.0 Specificity (TNR):  0.9482758620689655 \n",
      "\n",
      "\n",
      "\n",
      "Threshold = 0.7 \n",
      "Confusion Matrix:  \n",
      " [[55  3]\n",
      " [ 0 41]] \n",
      " 96 correct predictions and 0 False Negatives \n",
      "\n",
      " Sensitivity (TPR):  1.0 Specificity (TNR):  0.9482758620689655 \n",
      "\n",
      "\n",
      "\n",
      "Threshold = 0.8 \n",
      "Confusion Matrix:  \n",
      " [[55  3]\n",
      " [ 0 41]] \n",
      " 96 correct predictions and 0 False Negatives \n",
      "\n",
      " Sensitivity (TPR):  1.0 Specificity (TNR):  0.9482758620689655 \n",
      "\n",
      "\n",
      "\n",
      "Threshold = 0.9 \n",
      "Confusion Matrix:  \n",
      " [[55  3]\n",
      " [ 0 41]] \n",
      " 96 correct predictions and 0 False Negatives \n",
      "\n",
      " Sensitivity (TPR):  1.0 Specificity (TNR):  0.9482758620689655 \n",
      "\n",
      "\n",
      "\n",
      "Threshold = 1.0 \n",
      "Confusion Matrix:  \n",
      " [[58  0]\n",
      " [41  0]] \n",
      " 58 correct predictions and 41 False Negatives \n",
      "\n",
      " Sensitivity (TPR):  0.0 Specificity (TNR):  1.0 \n",
      "\n",
      "\n",
      "\n"
     ]
    },
    {
     "name": "stderr",
     "output_type": "stream",
     "text": [
      "/Users/madhuaithal/anaconda3/lib/python3.7/site-packages/sklearn/utils/validation.py:71: FutureWarning: Pass threshold=0.0 as keyword args. From version 0.25 passing these as positional arguments will result in an error\n",
      "  FutureWarning)\n",
      "/Users/madhuaithal/anaconda3/lib/python3.7/site-packages/sklearn/utils/validation.py:71: FutureWarning: Pass threshold=0.1 as keyword args. From version 0.25 passing these as positional arguments will result in an error\n",
      "  FutureWarning)\n",
      "/Users/madhuaithal/anaconda3/lib/python3.7/site-packages/sklearn/utils/validation.py:71: FutureWarning: Pass threshold=0.2 as keyword args. From version 0.25 passing these as positional arguments will result in an error\n",
      "  FutureWarning)\n",
      "/Users/madhuaithal/anaconda3/lib/python3.7/site-packages/sklearn/utils/validation.py:71: FutureWarning: Pass threshold=0.3 as keyword args. From version 0.25 passing these as positional arguments will result in an error\n",
      "  FutureWarning)\n",
      "/Users/madhuaithal/anaconda3/lib/python3.7/site-packages/sklearn/utils/validation.py:71: FutureWarning: Pass threshold=0.4 as keyword args. From version 0.25 passing these as positional arguments will result in an error\n",
      "  FutureWarning)\n",
      "/Users/madhuaithal/anaconda3/lib/python3.7/site-packages/sklearn/utils/validation.py:71: FutureWarning: Pass threshold=0.5 as keyword args. From version 0.25 passing these as positional arguments will result in an error\n",
      "  FutureWarning)\n",
      "/Users/madhuaithal/anaconda3/lib/python3.7/site-packages/sklearn/utils/validation.py:71: FutureWarning: Pass threshold=0.6 as keyword args. From version 0.25 passing these as positional arguments will result in an error\n",
      "  FutureWarning)\n",
      "/Users/madhuaithal/anaconda3/lib/python3.7/site-packages/sklearn/utils/validation.py:71: FutureWarning: Pass threshold=0.7 as keyword args. From version 0.25 passing these as positional arguments will result in an error\n",
      "  FutureWarning)\n",
      "/Users/madhuaithal/anaconda3/lib/python3.7/site-packages/sklearn/utils/validation.py:71: FutureWarning: Pass threshold=0.8 as keyword args. From version 0.25 passing these as positional arguments will result in an error\n",
      "  FutureWarning)\n",
      "/Users/madhuaithal/anaconda3/lib/python3.7/site-packages/sklearn/utils/validation.py:71: FutureWarning: Pass threshold=0.9 as keyword args. From version 0.25 passing these as positional arguments will result in an error\n",
      "  FutureWarning)\n",
      "/Users/madhuaithal/anaconda3/lib/python3.7/site-packages/sklearn/utils/validation.py:71: FutureWarning: Pass threshold=1.0 as keyword args. From version 0.25 passing these as positional arguments will result in an error\n",
      "  FutureWarning)\n"
     ]
    }
   ],
   "source": [
    "from sklearn.preprocessing import binarize\n",
    "for i in range(0,11):\n",
    "    cm2=0\n",
    "    y_pred_prob_yes=logmodel_balanced.predict_proba(X_test_balanced)\n",
    "    y_pred2=binarize(y_pred_prob_yes,i/10)[:,1]\n",
    "    cm2=confusion_matrix(y_test_balanced,y_pred2)\n",
    "    print ('Threshold =',i/10,'\\nConfusion Matrix: ','\\n',cm2,'\\n',\n",
    "            cm2[0,0]+cm2[1,1],'correct predictions and',cm2[1,0],'False Negatives','\\n\\n',\n",
    "          'Sensitivity (TPR): ',cm2[1,1]/(float(cm2[1,1]+cm2[1,0])),'Specificity (TNR): ',cm2[0,0]/(float(cm2[0,0]+cm2[0,1])),'\\n\\n\\n')"
   ]
  },
  {
   "cell_type": "code",
   "execution_count": 223,
   "metadata": {},
   "outputs": [],
   "source": [
    "# from sklearn.metrics import roc_curve\n",
    "# print(set(y_test_balanced))\n",
    "# fpr, tpr, thresholds = roc_curve(y_test_balanced, y_pred_prob_positive[:,1])\n",
    "# print(fpr)\n",
    "# print(tpr)\n",
    "# print(thresholds)\n",
    "# plt.plot(fpr,tpr)\n",
    "# plt.xlim([0.0, 1.0])\n",
    "# plt.ylim([0.0, 1.0])\n",
    "# plt.title('ROC curve for Fraud classifier')\n",
    "# plt.xlabel('False positive rate (1-Specificity)')\n",
    "# plt.ylabel('True positive rate (Sensitivity)')\n",
    "# plt.grid(True)"
   ]
  },
  {
   "cell_type": "code",
   "execution_count": 280,
   "metadata": {},
   "outputs": [
    {
     "data": {
      "image/png": "[encoded data removed]",
      "text/plain": [
       "<Figure size 432x288 with 1 Axes>"
      ]
     },
     "metadata": {
      "needs_background": "light"
     },
     "output_type": "display_data"
    }
   ],
   "source": [
    "from sklearn import datasets, metrics, model_selection\n",
    "metrics.plot_roc_curve(logmodel_balanced, X_test_balanced, y_test_balanced)  \n",
    "plt.savefig('roc_balanced_model.png',bbox_inches='tight', dpi=200)\n",
    "plt.show()"
   ]
  },
  {
   "cell_type": "code",
   "execution_count": 215,
   "metadata": {},
   "outputs": [
    {
     "data": {
      "image/png": "[encoded data removed]",
      "text/plain": [
       "<Figure size 432x288 with 1 Axes>"
      ]
     },
     "metadata": {
      "needs_background": "light"
     },
     "output_type": "display_data"
    }
   ],
   "source": [
    "from sklearn import datasets, metrics, model_selection\n",
    "metrics.plot_roc_curve(logmodel, X_test, y_test)  \n",
    "plt.savefig('roc_unbalanced_model.png',bbox_inches='tight', dpi=200)\n",
    "plt.show()"
   ]
  },
  {
   "cell_type": "code",
   "execution_count": 264,
   "metadata": {},
   "outputs": [
    {
     "name": "stdout",
     "output_type": "stream",
     "text": [
      "[[0. 1.]]\n"
     ]
    },
    {
     "name": "stderr",
     "output_type": "stream",
     "text": [
      "/Users/madhuaithal/anaconda3/lib/python3.7/site-packages/sklearn/utils/validation.py:71: FutureWarning: Pass threshold=0.8 as keyword args. From version 0.25 passing these as positional arguments will result in an error\n",
      "  FutureWarning)\n"
     ]
    }
   ],
   "source": [
    "y_pred_prob_yes_sample=logmodel_balanced.predict_proba(X_test_balanced.iloc[10].values.reshape(1,-1))\n",
    "y_pred2_sample=binarize(y_pred_prob_yes,8/10)[:,1]\n",
    "print(y_pred_prob_yes_sample)"
   ]
  },
  {
   "cell_type": "code",
   "execution_count": 265,
   "metadata": {},
   "outputs": [
    {
     "data": {
      "text/plain": [
       "1"
      ]
     },
     "execution_count": 265,
     "metadata": {},
     "output_type": "execute_result"
    }
   ],
   "source": [
    "y_test_balanced.iloc[10]"
   ]
  },
  {
   "cell_type": "code",
   "execution_count": 286,
   "metadata": {},
   "outputs": [
    {
     "name": "stdout",
     "output_type": "stream",
     "text": [
      "              precision    recall  f1-score   support\n",
      "\n",
      "           0       1.00      0.97      0.98        58\n",
      "           1       0.95      1.00      0.98        41\n",
      "\n",
      "    accuracy                           0.98        99\n",
      "   macro avg       0.98      0.98      0.98        99\n",
      "weighted avg       0.98      0.98      0.98        99\n",
      "\n"
     ]
    },
    {
     "name": "stderr",
     "output_type": "stream",
     "text": [
      "/Users/madhuaithal/anaconda3/lib/python3.7/site-packages/sklearn/linear_model/_logistic.py:764: ConvergenceWarning: lbfgs failed to converge (status=1):\n",
      "STOP: TOTAL NO. of ITERATIONS REACHED LIMIT.\n",
      "\n",
      "Increase the number of iterations (max_iter) or scale the data as shown in:\n",
      "    https://scikit-learn.org/stable/modules/preprocessing.html\n",
      "Please also refer to the documentation for alternative solver options:\n",
      "    https://scikit-learn.org/stable/modules/linear_model.html#logistic-regression\n",
      "  extra_warning_msg=_LOGISTIC_SOLVER_CONVERGENCE_MSG)\n"
     ]
    }
   ],
   "source": [
    "X_train_balanced, X_test_balanced, y_train_balanced, y_test_balanced = \\\n",
    "                                            train_test_split(train_df_balanced.drop(['V21','Class'],axis=1), \n",
    "                                            train_df_balanced['Class'], \n",
    "                                            test_size=0.10, \n",
    "                                            random_state=2309)\n",
    "\n",
    "from sklearn import preprocessing\n",
    "X_without_time = X_train_balanced.drop('Time',axis=1).values\n",
    "scaler = preprocessing.StandardScaler().fit(X_without_time)\n",
    "X_without_time = scaler.transform(X_without_time)\n",
    "X_time_only = np.expand_dims(X_train_balanced['Time'].values, axis=1)\n",
    "\n",
    "X_train_scaled = np.concatenate([X_time_only,X_without_time],axis=1)\n",
    "\n",
    "logmodel_balanced = LogisticRegression()\n",
    "logmodel_balanced.fit(X_train_scaled,y_train_balanced)\n",
    "\n",
    "predictions_balanced = logmodel_balanced.predict(X_test_balanced)\n",
    "\n",
    "from sklearn.metrics import classification_report\n",
    "print(classification_report(y_test_balanced,predictions_balanced))\n",
    "\n"
   ]
  },
  {
   "cell_type": "code",
   "execution_count": 287,
   "metadata": {},
   "outputs": [
    {
     "data": {
      "image/png": "[encoded data removed]",
      "text/plain": [
       "<Figure size 576x360 with 2 Axes>"
      ]
     },
     "metadata": {
      "needs_background": "light"
     },
     "output_type": "display_data"
    }
   ],
   "source": [
    "from sklearn.metrics import confusion_matrix\n",
    "\n",
    "conf_matrix=confusion_matrix(y_test_balanced,predictions_balanced)\n",
    "conf_matrix_df=pd.DataFrame(data=conf_matrix,columns=['Predicted:0','Predicted:1'],index=['Actual:0','Actual:1'])\n",
    "plt.figure(figsize = (8,5))\n",
    "sns.heatmap(conf_matrix, annot=True,fmt='d');"
   ]
  },
  {
   "cell_type": "code",
   "execution_count": 288,
   "metadata": {},
   "outputs": [
    {
     "name": "stdout",
     "output_type": "stream",
     "text": [
      "precision 0.9534883720930233\n",
      "recall 1.0\n",
      "F1 score 0.9761904761904763\n"
     ]
    }
   ],
   "source": [
    "TN=conf_matrix[0,0]\n",
    "TP=conf_matrix[1,1]\n",
    "FN=conf_matrix[1,0]\n",
    "FP=conf_matrix[0,1]\n",
    "\n",
    "precision = TP/float(TP+FP)\n",
    "recall=TP/float(TP+FN)\n",
    "TNR=TN/float(TN+FP)\n",
    "f1_score = 2*precision*recall/(precision+recall)\n",
    "\n",
    "print(\"precision\", precision)\n",
    "print('recall', recall)\n",
    "print('F1 score', f1_score)"
   ]
  },
  {
   "cell_type": "code",
   "execution_count": 289,
   "metadata": {},
   "outputs": [
    {
     "name": "stdout",
     "output_type": "stream",
     "text": [
      "The acuuracy of the model = TP+TN/(TP+TN+FP+FN) =           0.9797979797979798 \n",
      " The Missclassification = 1-Accuracy =                      0.02020202020202022 \n",
      " Sensitivity or True Positive Rate = TP/(TP+FN) =           1.0 \n",
      " Specificity or True Negative Rate = TN/(TN+FP) =           0.9655172413793104 \n",
      " Precision (PPV) = TP/(TP+FP) =                             0.9534883720930233 \n",
      " Precision for negative class (NPV) = TN/(TN+FN) =          1.0 \n",
      " Positive Likelihood Ratio = Sensitivity/(1-Specificity) =  29.000000000000036 \n",
      " Negative likelihood Ratio = (1-Sensitivity)/Specificity =  0.0\n"
     ]
    }
   ],
   "source": [
    "print('The acuuracy of the model = TP+TN/(TP+TN+FP+FN) =          ',(TP+TN)/float(TP+TN+FP+FN),'\\n',\n",
    "\n",
    "'The Missclassification = 1-Accuracy =                     ',1-((TP+TN)/float(TP+TN+FP+FN)),'\\n',\n",
    "\n",
    "'Sensitivity or True Positive Rate = TP/(TP+FN) =          ',TP/float(TP+FN),'\\n',\n",
    "\n",
    "'Specificity or True Negative Rate = TN/(TN+FP) =          ',TN/float(TN+FP),'\\n',\n",
    "\n",
    "'Precision (PPV) = TP/(TP+FP) =                            ',TP/float(TP+FP),'\\n',\n",
    "\n",
    "'Precision for negative class (NPV) = TN/(TN+FN) =         ',TN/float(TN+FN),'\\n',\n",
    "\n",
    "'Positive Likelihood Ratio = Sensitivity/(1-Specificity) = ',recall/(1-TNR),'\\n',\n",
    "\n",
    "'Negative likelihood Ratio = (1-Sensitivity)/Specificity = ',(1-recall)/TNR)"
   ]
  },
  {
   "cell_type": "code",
   "execution_count": 290,
   "metadata": {},
   "outputs": [
    {
     "data": {
      "image/png": "[encoded data removed]",
      "text/plain": [
       "<Figure size 432x288 with 1 Axes>"
      ]
     },
     "metadata": {
      "needs_background": "light"
     },
     "output_type": "display_data"
    }
   ],
   "source": [
    "from sklearn import datasets, metrics, model_selection\n",
    "metrics.plot_roc_curve(logmodel_balanced, X_test_balanced, y_test_balanced)  \n",
    "plt.savefig('roc_balanced_model_wo_v21.png', bbox_inches='tight', dpi=200)\n",
    "plt.show()"
   ]
  },
  {
   "cell_type": "code",
   "execution_count": 99,
   "metadata": {},
   "outputs": [],
   "source": [
    "# all_columns = list(train_df_balanced.columns)\n",
    "# print(all_columns[:-1])\n",
    "# print(train_df_balanced.head())"
   ]
  },
  {
   "cell_type": "code",
   "execution_count": 101,
   "metadata": {},
   "outputs": [],
   "source": [
    "# from pyspark import SparkContext, SparkConf\n",
    "# from pyspark.sql import SparkSession\n",
    "# from pyspark.sql.functions import desc\n",
    "\n",
    "# spark = SparkSession \\\n",
    "#     .builder \\\n",
    "#     .appName(\"Lab4-Dataframe\") \\\n",
    "#     .master(\"local[*]\")\\\n",
    "#     .getOrCreate()"
   ]
  },
  {
   "cell_type": "code",
   "execution_count": 102,
   "metadata": {},
   "outputs": [],
   "source": [
    "from pyspark.sql import SparkSession\n",
    "spark = SparkSession.builder.appName('fraud-detection').master(\"local[*]\").getOrCreate()"
   ]
  },
  {
   "cell_type": "code",
   "execution_count": 115,
   "metadata": {},
   "outputs": [
    {
     "name": "stdout",
     "output_type": "stream",
     "text": [
      "256818\n"
     ]
    }
   ],
   "source": [
    "spark_df = spark.read.csv(os.path.join(DATASET_DIR, 'train.csv'), header = True, inferSchema = True)\n",
    "# spark_df.show(1)\n",
    "# spark_df.printSchema()\n",
    "spark_df = spark_df.withColumnRenamed('Class', 'label')\n",
    "# df.withColumnRenamed(\"dob\",\"DateOfBirth\")\n",
    "# df = df.drop(['Unnamed: 0'])\n",
    "# print(spark_df.count())\n",
    "\n",
    "\n",
    "pos_spark_df = spark_df.filter(spark_df.label == 1)\n",
    "neg_spark_df = spark_df.filter(spark_df.label == 0)\n",
    "neg_spark_df_2 = neg_spark_df.limit(pos_spark_df.count())\n",
    "\n",
    "spark_df_balanced = pos_spark_df.union(neg_spark_df)\n",
    "print(spark_df_balanced.count())\n",
    "# DATASET_DIR = '../kaggle-dataset'\n",
    "# train_df = pd.read_csv(os.path.join(DATASET_DIR, 'train.csv'))\n",
    "# train_df = train_df.drop(['Unnamed: 0'], axis=1)\n",
    "\n",
    "# neg_df = train_df.loc[train_df['Class']==0]\n",
    "# pos_df = train_df.loc[train_df['Class']==1]"
   ]
  },
  {
   "cell_type": "code",
   "execution_count": 116,
   "metadata": {},
   "outputs": [
    {
     "name": "stdout",
     "output_type": "stream",
     "text": [
      "['_c0', 'Time', 'V1', 'V2', 'V3', 'V4', 'V5', 'V6', 'V7', 'V8', 'V9', 'V10', 'V11', 'V12', 'V13', 'V14', 'V15', 'V16', 'V17', 'V18', 'V19', 'V20', 'V21', 'V22', 'V23', 'V24', 'V25', 'V26', 'V27', 'V28', 'Amount', 'label']\n"
     ]
    }
   ],
   "source": [
    "all_columns = spark_df_balanced.columns\n",
    "print(all_columns)"
   ]
  },
  {
   "cell_type": "code",
   "execution_count": 117,
   "metadata": {},
   "outputs": [],
   "source": [
    "from pyspark.ml.feature import VectorAssembler\n",
    "from pyspark.ml import Pipeline\n",
    "\n",
    "stages = []\n",
    "all_input_cols = all_columns[:-1]\n",
    "assembler = VectorAssembler(inputCols=all_inputs_cols, outputCol=\"features\")\n",
    "stages += [assembler]\n",
    "\n"
   ]
  },
  {
   "cell_type": "code",
   "execution_count": 118,
   "metadata": {},
   "outputs": [
    {
     "name": "stdout",
     "output_type": "stream",
     "text": [
      "root\n",
      " |-- label: integer (nullable = true)\n",
      " |-- features: vector (nullable = true)\n",
      " |-- _c0: integer (nullable = true)\n",
      " |-- Time: double (nullable = true)\n",
      " |-- V1: double (nullable = true)\n",
      " |-- V2: double (nullable = true)\n",
      " |-- V3: double (nullable = true)\n",
      " |-- V4: double (nullable = true)\n",
      " |-- V5: double (nullable = true)\n",
      " |-- V6: double (nullable = true)\n",
      " |-- V7: double (nullable = true)\n",
      " |-- V8: double (nullable = true)\n",
      " |-- V9: double (nullable = true)\n",
      " |-- V10: double (nullable = true)\n",
      " |-- V11: double (nullable = true)\n",
      " |-- V12: double (nullable = true)\n",
      " |-- V13: double (nullable = true)\n",
      " |-- V14: double (nullable = true)\n",
      " |-- V15: double (nullable = true)\n",
      " |-- V16: double (nullable = true)\n",
      " |-- V17: double (nullable = true)\n",
      " |-- V18: double (nullable = true)\n",
      " |-- V19: double (nullable = true)\n",
      " |-- V20: double (nullable = true)\n",
      " |-- V21: double (nullable = true)\n",
      " |-- V22: double (nullable = true)\n",
      " |-- V23: double (nullable = true)\n",
      " |-- V24: double (nullable = true)\n",
      " |-- V25: double (nullable = true)\n",
      " |-- V26: double (nullable = true)\n",
      " |-- V27: double (nullable = true)\n",
      " |-- V28: double (nullable = true)\n",
      " |-- Amount: double (nullable = true)\n",
      "\n"
     ]
    }
   ],
   "source": [
    "pipeline = Pipeline(stages = stages)\n",
    "pipelineModel = pipeline.fit(spark_df_balanced)\n",
    "spark_df_balanced_2 = pipelineModel.transform(spark_df_balanced)\n",
    "selectedCols = ['label', 'features'] + all_input_cols\n",
    "spark_df_balanced_2 = spark_df_balanced_2.select(selectedCols)\n",
    "spark_df_balanced_2.printSchema()"
   ]
  },
  {
   "cell_type": "code",
   "execution_count": 119,
   "metadata": {},
   "outputs": [
    {
     "name": "stdout",
     "output_type": "stream",
     "text": [
      "Training Dataset Count: 231068\n",
      "Test Dataset Count: 25750\n"
     ]
    }
   ],
   "source": [
    "train, test = spark_df_balanced_2.randomSplit([0.9, 0.1], seed = 2018)\n",
    "print(\"Training Dataset Count: \" + str(train.count()))\n",
    "print(\"Test Dataset Count: \" + str(test.count()))\n"
   ]
  },
  {
   "cell_type": "code",
   "execution_count": 120,
   "metadata": {},
   "outputs": [],
   "source": [
    "from pyspark.ml.classification import LogisticRegression, LogisticRegressionModel\n",
    "\n",
    "lr = LogisticRegression(featuresCol = 'features', labelCol = 'label', maxIter=10)\n",
    "lrModel = lr.fit(train)"
   ]
  },
  {
   "cell_type": "code",
   "execution_count": 121,
   "metadata": {},
   "outputs": [
    {
     "data": {
      "image/png": "[encoded data removed]",
      "text/plain": [
       "<Figure size 432x288 with 1 Axes>"
      ]
     },
     "metadata": {
      "needs_background": "light"
     },
     "output_type": "display_data"
    }
   ],
   "source": [
    "import matplotlib.pyplot as plt\n",
    "import numpy as np\n",
    "\n",
    "beta = np.sort(lrModel.coefficients)\n",
    "\n",
    "plt.plot(beta)\n",
    "plt.ylabel('Beta Coefficients')\n",
    "plt.show()"
   ]
  },
  {
   "cell_type": "code",
   "execution_count": 122,
   "metadata": {},
   "outputs": [
    {
     "data": {
      "image/png": "[encoded data removed]",
      "text/plain": [
       "<Figure size 432x288 with 1 Axes>"
      ]
     },
     "metadata": {
      "needs_background": "light"
     },
     "output_type": "display_data"
    },
    {
     "name": "stdout",
     "output_type": "stream",
     "text": [
      "Training set areaUnderROC: 0.9985668446842483\n"
     ]
    }
   ],
   "source": [
    "trainingSummary = lrModel.summary\n",
    "\n",
    "roc = trainingSummary.roc.toPandas()\n",
    "plt.plot(roc['FPR'],roc['TPR'])\n",
    "plt.ylabel('False Positive Rate')\n",
    "plt.xlabel('True Positive Rate')\n",
    "plt.title('ROC Curve')\n",
    "plt.show()\n",
    "\n",
    "print('Training set areaUnderROC: ' + str(trainingSummary.areaUnderROC))\n"
   ]
  },
  {
   "cell_type": "code",
   "execution_count": 124,
   "metadata": {},
   "outputs": [],
   "source": [
    "save_path = 'LR-balanced.model'\n",
    "# lrModel.save(save_path)\n",
    "lrModel.save(\"LRUnbalancedModel\")\n"
   ]
  },
  {
   "cell_type": "code",
   "execution_count": 125,
   "metadata": {
    "scrolled": true
   },
   "outputs": [],
   "source": [
    "from pyspark.ml.classification import LogisticRegression, LogisticRegressionModel\n",
    "# read pickled model via pipeline api\n",
    "persistedModel = LogisticRegressionModel.load(save_path)\n",
    "\n",
    "# predict\n",
    "predictions = persistedModel.transform(test)\n",
    "# predictions.select('Class').show(100)"
   ]
  },
  {
   "cell_type": "code",
   "execution_count": 126,
   "metadata": {},
   "outputs": [
    {
     "name": "stdout",
     "output_type": "stream",
     "text": [
      "Test Area Under ROC 0.9999904712672977\n"
     ]
    }
   ],
   "source": [
    "from pyspark.ml.evaluation import BinaryClassificationEvaluator\n",
    "\n",
    "evaluator = BinaryClassificationEvaluator()\n",
    "print('Test Area Under ROC', evaluator.evaluate(predictions))"
   ]
  },
  {
   "cell_type": "code",
   "execution_count": 127,
   "metadata": {},
   "outputs": [
    {
     "name": "stdout",
     "output_type": "stream",
     "text": [
      "Test Area Under ROC 0.9979402056141705\n"
     ]
    }
   ],
   "source": [
    "from pyspark.ml.tuning import ParamGridBuilder, CrossValidator\n",
    "\n",
    "# Create ParamGrid for Cross Validation\n",
    "paramGrid = (ParamGridBuilder()\n",
    "             .addGrid(lr.regParam, [0.01, 0.5, 2.0])\n",
    "             .addGrid(lr.elasticNetParam, [0.0, 0.5, 1.0])\n",
    "             .addGrid(lr.maxIter, [1, 5, 10])\n",
    "             .build())\n",
    "\n",
    "cv = CrossValidator(estimator=lr, estimatorParamMaps=paramGrid, evaluator=evaluator, numFolds=5)\n",
    "\n",
    "cvModel = cv.fit(train)\n",
    "predictions = cvModel.transform(test)\n",
    "print('Test Area Under ROC', evaluator.evaluate(predictions))"
   ]
  },
  {
   "cell_type": "code",
   "execution_count": null,
   "metadata": {},
   "outputs": [],
   "source": []
  }
 ],
 "metadata": {
  "kernelspec": {
   "display_name": "Python 3",
   "language": "python",
   "name": "python3"
  },
  "language_info": {
   "codemirror_mode": {
    "name": "ipython",
    "version": 3
   },
   "file_extension": ".py",
   "mimetype": "text/x-python",
   "name": "python",
   "nbconvert_exporter": "python",
   "pygments_lexer": "ipython3",
   "version": "3.7.4"
  }
 },
 "nbformat": 4,
 "nbformat_minor": 2
}
