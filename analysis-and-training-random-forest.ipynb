{
 "cells": [
  {
   "cell_type": "code",
   "execution_count": 1,
   "metadata": {},
   "outputs": [],
   "source": [
    "import os, sys\n",
    "import pandas as pd\n",
    "import matplotlib.pyplot as plt\n",
    "import seaborn as sns\n",
    "from sklearn.model_selection import train_test_split\n",
    "from sklearn.linear_model import LogisticRegression\n",
    "import numpy as np\n",
    "from sklearn.ensemble import RandomForestClassifier\n",
    "\n",
    "%matplotlib inline"
   ]
  },
  {
   "cell_type": "code",
   "execution_count": 2,
   "metadata": {},
   "outputs": [],
   "source": [
    "DATASET_DIR = '../kaggle-dataset'\n",
    "train_df = pd.read_csv(os.path.join(DATASET_DIR, 'train.csv'))\n",
    "test_df = pd.read_csv(os.path.join(DATASET_DIR, 'test.csv'))\n",
    "# train_df = train_df.drop(['Unnamed: 0'], axis=1)\n",
    "\n",
    "neg_df = train_df.loc[train_df['Class']==0]\n",
    "pos_df = train_df.loc[train_df['Class']==1]\n",
    "\n",
    "train_df_balanced = pd.concat([neg_df[:len(pos_df)], pos_df], ignore_index=True)"
   ]
  },
  {
   "cell_type": "markdown",
   "metadata": {},
   "source": [
    "## Random Forest Classifier (Unbalanced)"
   ]
  },
  {
   "cell_type": "code",
   "execution_count": 5,
   "metadata": {},
   "outputs": [
    {
     "name": "stdout",
     "output_type": "stream",
     "text": [
      "231136\n",
      "              precision    recall  f1-score   support\n",
      "\n",
      "           0       1.00      1.00      1.00     25650\n",
      "           1       0.83      0.75      0.79        32\n",
      "\n",
      "    accuracy                           1.00     25682\n",
      "   macro avg       0.91      0.87      0.89     25682\n",
      "weighted avg       1.00      1.00      1.00     25682\n",
      "\n"
     ]
    }
   ],
   "source": [
    "X_train, X_test, y_train, y_test = train_test_split(train_df.drop('Class',axis=1), \n",
    "                                                    train_df['Class'], test_size=0.10, \n",
    "                                                    random_state=2309)\n",
    "print(len(X_train))\n",
    "rfmodel = RandomForestClassifier()\n",
    "rfmodel.fit(X_train,y_train)\n",
    "predictions = rfmodel.predict(X_test)\n",
    "\n",
    "\n",
    "from sklearn.metrics import classification_report\n",
    "print(classification_report(y_test,predictions))"
   ]
  },
  {
   "cell_type": "code",
   "execution_count": null,
   "metadata": {},
   "outputs": [],
   "source": []
  },
  {
   "cell_type": "code",
   "execution_count": 6,
   "metadata": {},
   "outputs": [
    {
     "data": {
      "image/png": "[encoded data removed]",
      "text/plain": [
       "<Figure size 576x360 with 2 Axes>"
      ]
     },
     "metadata": {
      "needs_background": "light"
     },
     "output_type": "display_data"
    }
   ],
   "source": [
    "from sklearn.metrics import confusion_matrix\n",
    "\n",
    "conf_matrix=confusion_matrix(y_test,predictions)\n",
    "conf_matrix_df=pd.DataFrame(data=conf_matrix,columns=['Predicted:0','Predicted:1'],index=['Actual:0','Actual:1'])\n",
    "plt.figure(figsize = (8,5))\n",
    "sns.heatmap(conf_matrix, annot=True,fmt='d');"
   ]
  },
  {
   "cell_type": "code",
   "execution_count": 7,
   "metadata": {},
   "outputs": [
    {
     "name": "stdout",
     "output_type": "stream",
     "text": [
      "precision 0.8275862068965517\n",
      "recall 0.75\n",
      "F1 score 0.7868852459016394\n"
     ]
    }
   ],
   "source": [
    "TN=conf_matrix[0,0]\n",
    "TP=conf_matrix[1,1]\n",
    "FN=conf_matrix[1,0]\n",
    "FP=conf_matrix[0,1]\n",
    "\n",
    "precision = TP/float(TP+FP)\n",
    "recall=TP/float(TP+FN)\n",
    "TNR=TN/float(TN+FP)\n",
    "f1_score = 2*precision*recall/(precision+recall)\n",
    "\n",
    "print(\"precision\", precision)\n",
    "print('recall', recall)\n",
    "print('F1 score', f1_score)"
   ]
  },
  {
   "cell_type": "code",
   "execution_count": 8,
   "metadata": {},
   "outputs": [
    {
     "name": "stdout",
     "output_type": "stream",
     "text": [
      "The acuuracy of the model = TP+TN/(TP+TN+FP+FN) =           0.9994938088933883 \n",
      " The Missclassification = 1-Accuracy =                      0.0005061911066116531 \n",
      " Sensitivity or True Positive Rate = TP/(TP+FN) =           0.75 \n",
      " Specificity or True Negative Rate = TN/(TN+FP) =           0.9998050682261208 \n",
      " Precision (PPV) = TP/(TP+FP) =                             0.8275862068965517 \n",
      " Precision for negative class (NPV) = TN/(TN+FN) =          0.999688145635988 \n",
      " Positive Likelihood Ratio = Sensitivity/(1-Specificity) =  3847.499999999014 \n",
      " Negative likelihood Ratio = (1-Sensitivity)/Specificity =  0.25004874244492103\n"
     ]
    }
   ],
   "source": [
    "print('The acuuracy of the model = TP+TN/(TP+TN+FP+FN) =          ',(TP+TN)/float(TP+TN+FP+FN),'\\n',\n",
    "\n",
    "'The Missclassification = 1-Accuracy =                     ',1-((TP+TN)/float(TP+TN+FP+FN)),'\\n',\n",
    "\n",
    "'Sensitivity or True Positive Rate = TP/(TP+FN) =          ',TP/float(TP+FN),'\\n',\n",
    "\n",
    "'Specificity or True Negative Rate = TN/(TN+FP) =          ',TN/float(TN+FP),'\\n',\n",
    "\n",
    "'Precision (PPV) = TP/(TP+FP) =                            ',TP/float(TP+FP),'\\n',\n",
    "\n",
    "'Precision for negative class (NPV) = TN/(TN+FN) =         ',TN/float(TN+FN),'\\n',\n",
    "\n",
    "'Positive Likelihood Ratio = Sensitivity/(1-Specificity) = ',recall/(1-TNR),'\\n',\n",
    "\n",
    "'Negative likelihood Ratio = (1-Sensitivity)/Specificity = ',(1-recall)/TNR)"
   ]
  },
  {
   "cell_type": "markdown",
   "metadata": {},
   "source": [
    "## Random Forest Classifier (Balanced training set)"
   ]
  },
  {
   "cell_type": "code",
   "execution_count": 9,
   "metadata": {
    "scrolled": true
   },
   "outputs": [
    {
     "name": "stdout",
     "output_type": "stream",
     "text": [
      "              precision    recall  f1-score   support\n",
      "\n",
      "           0       1.00      0.97      0.98        58\n",
      "           1       0.95      1.00      0.98        41\n",
      "\n",
      "    accuracy                           0.98        99\n",
      "   macro avg       0.98      0.98      0.98        99\n",
      "weighted avg       0.98      0.98      0.98        99\n",
      "\n"
     ]
    }
   ],
   "source": [
    "X_train_balanced, X_test_balanced, y_train_balanced, y_test_balanced = \\\n",
    "                                            train_test_split(train_df_balanced.drop('Class',axis=1), \n",
    "                                            train_df_balanced['Class'], \n",
    "                                            test_size=0.10, \n",
    "#                                                     solver='saga',\n",
    "                                            random_state=2309)\n",
    "# print(len(X_train_balanced))\n",
    "\n",
    "from sklearn import preprocessing\n",
    "X_without_time = X_train_balanced.drop('Time',axis=1).values\n",
    "\n",
    "scaler = preprocessing.StandardScaler().fit(X_without_time)\n",
    "\n",
    "X_without_time = scaler.transform(X_without_time)\n",
    "X_time_only = np.expand_dims(X_train_balanced['Time'].values, axis=1)\n",
    "\n",
    "# print(np.expand_dims(X_train_balanced['Time'].values, axis=1).shape)\n",
    "# print(X_without_time.shape)\n",
    "\n",
    "X_train_scaled = np.concatenate([X_time_only,X_without_time],axis=1)\n",
    "\n",
    "# print(X_train_scaled.shape)\n",
    "# X_train_scaled = X_train_balanced\n",
    "# print(X_train_scaled)\n",
    "\n",
    "rfmodel_balanced = RandomForestClassifier()\n",
    "rfmodel_balanced.fit(X_train_scaled,y_train_balanced)\n",
    "\n",
    "predictions_balanced = rfmodel_balanced.predict(X_test_balanced)\n",
    "\n",
    "\n",
    "from sklearn.metrics import classification_report\n",
    "print(classification_report(y_test_balanced,predictions_balanced))\n",
    "\n"
   ]
  },
  {
   "cell_type": "code",
   "execution_count": 10,
   "metadata": {},
   "outputs": [
    {
     "data": {
      "image/png": "[encoded data removed]",
      "text/plain": [
       "<Figure size 576x360 with 2 Axes>"
      ]
     },
     "metadata": {
      "needs_background": "light"
     },
     "output_type": "display_data"
    }
   ],
   "source": [
    "from sklearn.metrics import confusion_matrix\n",
    "\n",
    "conf_matrix=confusion_matrix(y_test_balanced,predictions_balanced)\n",
    "conf_matrix_df=pd.DataFrame(data=conf_matrix,columns=['Predicted:0','Predicted:1'],index=['Actual:0','Actual:1'])\n",
    "plt.figure(figsize = (8,5))\n",
    "sns.heatmap(conf_matrix, annot=True,fmt='d');"
   ]
  },
  {
   "cell_type": "code",
   "execution_count": 11,
   "metadata": {},
   "outputs": [
    {
     "name": "stdout",
     "output_type": "stream",
     "text": [
      "precision 0.9534883720930233\n",
      "recall 1.0\n",
      "F1 score 0.9761904761904763\n"
     ]
    }
   ],
   "source": [
    "TN=conf_matrix[0,0]\n",
    "TP=conf_matrix[1,1]\n",
    "FN=conf_matrix[1,0]\n",
    "FP=conf_matrix[0,1]\n",
    "\n",
    "precision = TP/float(TP+FP)\n",
    "recall=TP/float(TP+FN)\n",
    "TNR=TN/float(TN+FP)\n",
    "f1_score = 2*precision*recall/(precision+recall)\n",
    "\n",
    "print(\"precision\", precision)\n",
    "print('recall', recall)\n",
    "print('F1 score', f1_score)"
   ]
  },
  {
   "cell_type": "code",
   "execution_count": 12,
   "metadata": {},
   "outputs": [
    {
     "name": "stdout",
     "output_type": "stream",
     "text": [
      "The acuuracy of the model = TP+TN/(TP+TN+FP+FN) =           0.9797979797979798 \n",
      " The Missclassification = 1-Accuracy =                      0.02020202020202022 \n",
      " Sensitivity or True Positive Rate = TP/(TP+FN) =           1.0 \n",
      " Specificity or True Negative Rate = TN/(TN+FP) =           0.9655172413793104 \n",
      " Precision (PPV) = TP/(TP+FP) =                             0.9534883720930233 \n",
      " Precision for negative class (NPV) = TN/(TN+FN) =          1.0 \n",
      " Positive Likelihood Ratio = Sensitivity/(1-Specificity) =  29.000000000000036 \n",
      " Negative likelihood Ratio = (1-Sensitivity)/Specificity =  0.0\n"
     ]
    }
   ],
   "source": [
    "print('The acuuracy of the model = TP+TN/(TP+TN+FP+FN) =          ',(TP+TN)/float(TP+TN+FP+FN),'\\n',\n",
    "\n",
    "'The Missclassification = 1-Accuracy =                     ',1-((TP+TN)/float(TP+TN+FP+FN)),'\\n',\n",
    "\n",
    "'Sensitivity or True Positive Rate = TP/(TP+FN) =          ',TP/float(TP+FN),'\\n',\n",
    "\n",
    "'Specificity or True Negative Rate = TN/(TN+FP) =          ',TN/float(TN+FP),'\\n',\n",
    "\n",
    "'Precision (PPV) = TP/(TP+FP) =                            ',TP/float(TP+FP),'\\n',\n",
    "\n",
    "'Precision for negative class (NPV) = TN/(TN+FN) =         ',TN/float(TN+FN),'\\n',\n",
    "\n",
    "'Positive Likelihood Ratio = Sensitivity/(1-Specificity) = ',recall/(1-TNR),'\\n',\n",
    "\n",
    "'Negative likelihood Ratio = (1-Sensitivity)/Specificity = ',(1-recall)/TNR)"
   ]
  },
  {
   "cell_type": "code",
   "execution_count": 14,
   "metadata": {},
   "outputs": [],
   "source": [
    "y_pred_prob_positive=rfmodel_balanced.predict_proba(X_test_balanced)\n",
    "# print(y_pred_prob_positive)\n",
    "# print(sum(y_pred_prob_positive[0]))"
   ]
  },
  {
   "cell_type": "code",
   "execution_count": 16,
   "metadata": {},
   "outputs": [
    {
     "name": "stdout",
     "output_type": "stream",
     "text": [
      "Threshold = 0.0 \n",
      "Confusion Matrix:  \n",
      " [[ 0 58]\n",
      " [ 0 41]] \n",
      " 41 correct predictions and 0 False Negatives \n",
      "\n",
      " Sensitivity (TPR):  1.0 Specificity (TNR):  0.0 \n",
      "\n",
      "\n",
      "\n",
      "Threshold = 0.1 \n",
      "Confusion Matrix:  \n",
      " [[ 0 58]\n",
      " [ 0 41]] \n",
      " 41 correct predictions and 0 False Negatives \n",
      "\n",
      " Sensitivity (TPR):  1.0 Specificity (TNR):  0.0 \n",
      "\n",
      "\n",
      "\n",
      "Threshold = 0.2 \n",
      "Confusion Matrix:  \n",
      " [[ 2 56]\n",
      " [ 0 41]] \n",
      " 43 correct predictions and 0 False Negatives \n",
      "\n",
      " Sensitivity (TPR):  1.0 Specificity (TNR):  0.034482758620689655 \n",
      "\n",
      "\n",
      "\n",
      "Threshold = 0.3 \n",
      "Confusion Matrix:  \n",
      " [[ 7 51]\n",
      " [ 0 41]] \n",
      " 48 correct predictions and 0 False Negatives \n",
      "\n",
      " Sensitivity (TPR):  1.0 Specificity (TNR):  0.1206896551724138 \n",
      "\n",
      "\n",
      "\n",
      "Threshold = 0.4 \n",
      "Confusion Matrix:  \n",
      " [[40 18]\n",
      " [ 0 41]] \n",
      " 81 correct predictions and 0 False Negatives \n",
      "\n",
      " Sensitivity (TPR):  1.0 Specificity (TNR):  0.6896551724137931 \n",
      "\n",
      "\n",
      "\n",
      "Threshold = 0.5 \n",
      "Confusion Matrix:  \n",
      " [[56  2]\n",
      " [ 0 41]] \n",
      " 97 correct predictions and 0 False Negatives \n",
      "\n",
      " Sensitivity (TPR):  1.0 Specificity (TNR):  0.9655172413793104 \n",
      "\n",
      "\n",
      "\n",
      "Threshold = 0.6 \n",
      "Confusion Matrix:  \n",
      " [[58  0]\n",
      " [ 0 41]] \n",
      " 99 correct predictions and 0 False Negatives \n",
      "\n",
      " Sensitivity (TPR):  1.0 Specificity (TNR):  1.0 \n",
      "\n",
      "\n",
      "\n",
      "Threshold = 0.7 \n",
      "Confusion Matrix:  \n",
      " [[58  0]\n",
      " [ 0 41]] \n",
      " 99 correct predictions and 0 False Negatives \n",
      "\n",
      " Sensitivity (TPR):  1.0 Specificity (TNR):  1.0 \n",
      "\n",
      "\n",
      "\n",
      "Threshold = 0.8 \n",
      "Confusion Matrix:  \n",
      " [[58  0]\n",
      " [ 0 41]] \n",
      " 99 correct predictions and 0 False Negatives \n",
      "\n",
      " Sensitivity (TPR):  1.0 Specificity (TNR):  1.0 \n",
      "\n",
      "\n",
      "\n",
      "Threshold = 0.9 \n",
      "Confusion Matrix:  \n",
      " [[58  0]\n",
      " [ 3 38]] \n",
      " 96 correct predictions and 3 False Negatives \n",
      "\n",
      " Sensitivity (TPR):  0.926829268292683 Specificity (TNR):  1.0 \n",
      "\n",
      "\n",
      "\n",
      "Threshold = 1.0 \n",
      "Confusion Matrix:  \n",
      " [[58  0]\n",
      " [41  0]] \n",
      " 58 correct predictions and 41 False Negatives \n",
      "\n",
      " Sensitivity (TPR):  0.0 Specificity (TNR):  1.0 \n",
      "\n",
      "\n",
      "\n"
     ]
    },
    {
     "name": "stderr",
     "output_type": "stream",
     "text": [
      "/Users/madhuaithal/anaconda3/lib/python3.7/site-packages/sklearn/utils/validation.py:71: FutureWarning: Pass threshold=0.0 as keyword args. From version 0.25 passing these as positional arguments will result in an error\n",
      "  FutureWarning)\n",
      "/Users/madhuaithal/anaconda3/lib/python3.7/site-packages/sklearn/utils/validation.py:71: FutureWarning: Pass threshold=0.1 as keyword args. From version 0.25 passing these as positional arguments will result in an error\n",
      "  FutureWarning)\n",
      "/Users/madhuaithal/anaconda3/lib/python3.7/site-packages/sklearn/utils/validation.py:71: FutureWarning: Pass threshold=0.2 as keyword args. From version 0.25 passing these as positional arguments will result in an error\n",
      "  FutureWarning)\n",
      "/Users/madhuaithal/anaconda3/lib/python3.7/site-packages/sklearn/utils/validation.py:71: FutureWarning: Pass threshold=0.3 as keyword args. From version 0.25 passing these as positional arguments will result in an error\n",
      "  FutureWarning)\n",
      "/Users/madhuaithal/anaconda3/lib/python3.7/site-packages/sklearn/utils/validation.py:71: FutureWarning: Pass threshold=0.4 as keyword args. From version 0.25 passing these as positional arguments will result in an error\n",
      "  FutureWarning)\n",
      "/Users/madhuaithal/anaconda3/lib/python3.7/site-packages/sklearn/utils/validation.py:71: FutureWarning: Pass threshold=0.5 as keyword args. From version 0.25 passing these as positional arguments will result in an error\n",
      "  FutureWarning)\n",
      "/Users/madhuaithal/anaconda3/lib/python3.7/site-packages/sklearn/utils/validation.py:71: FutureWarning: Pass threshold=0.6 as keyword args. From version 0.25 passing these as positional arguments will result in an error\n",
      "  FutureWarning)\n",
      "/Users/madhuaithal/anaconda3/lib/python3.7/site-packages/sklearn/utils/validation.py:71: FutureWarning: Pass threshold=0.7 as keyword args. From version 0.25 passing these as positional arguments will result in an error\n",
      "  FutureWarning)\n",
      "/Users/madhuaithal/anaconda3/lib/python3.7/site-packages/sklearn/utils/validation.py:71: FutureWarning: Pass threshold=0.8 as keyword args. From version 0.25 passing these as positional arguments will result in an error\n",
      "  FutureWarning)\n",
      "/Users/madhuaithal/anaconda3/lib/python3.7/site-packages/sklearn/utils/validation.py:71: FutureWarning: Pass threshold=0.9 as keyword args. From version 0.25 passing these as positional arguments will result in an error\n",
      "  FutureWarning)\n",
      "/Users/madhuaithal/anaconda3/lib/python3.7/site-packages/sklearn/utils/validation.py:71: FutureWarning: Pass threshold=1.0 as keyword args. From version 0.25 passing these as positional arguments will result in an error\n",
      "  FutureWarning)\n"
     ]
    }
   ],
   "source": [
    "from sklearn.preprocessing import binarize\n",
    "for i in range(0,11):\n",
    "    cm2=0\n",
    "    y_pred_prob_yes=rfmodel_balanced.predict_proba(X_test_balanced)\n",
    "    y_pred2=binarize(y_pred_prob_yes,i/10)[:,1]\n",
    "    cm2=confusion_matrix(y_test_balanced,y_pred2)\n",
    "    print ('Threshold =',i/10,'\\nConfusion Matrix: ','\\n',cm2,'\\n',\n",
    "            cm2[0,0]+cm2[1,1],'correct predictions and',cm2[1,0],'False Negatives','\\n\\n',\n",
    "          'Sensitivity (TPR): ',cm2[1,1]/(float(cm2[1,1]+cm2[1,0])),'Specificity (TNR): ',cm2[0,0]/(float(cm2[0,0]+cm2[0,1])),'\\n\\n\\n')"
   ]
  },
  {
   "cell_type": "code",
   "execution_count": 23,
   "metadata": {},
   "outputs": [],
   "source": [
    "# from sklearn.metrics import roc_curve\n",
    "# print(set(y_test_balanced))\n",
    "# fpr, tpr, thresholds = roc_curve(y_test_balanced, y_pred_prob_positive[:,1])\n",
    "# print(fpr)\n",
    "# print(tpr)\n",
    "# print(thresholds)\n",
    "# plt.plot(fpr,tpr)\n",
    "# plt.xlim([0.0, 1.0])\n",
    "# plt.ylim([0.0, 1.0])\n",
    "# plt.title('ROC curve for Fraud classifier')\n",
    "# plt.xlabel('False positive rate (1-Specificity)')\n",
    "# plt.ylabel('True positive rate (Sensitivity)')\n",
    "# plt.grid(True)"
   ]
  },
  {
   "cell_type": "code",
   "execution_count": 17,
   "metadata": {},
   "outputs": [
    {
     "data": {
      "image/png": "[encoded data removed]",
      "text/plain": [
       "<Figure size 432x288 with 1 Axes>"
      ]
     },
     "metadata": {
      "needs_background": "light"
     },
     "output_type": "display_data"
    }
   ],
   "source": [
    "from sklearn import datasets, metrics, model_selection\n",
    "metrics.plot_roc_curve(rfmodel_balanced, X_test_balanced, y_test_balanced)  \n",
    "plt.savefig('random_forest_roc_balanced_model.png',bbox_inches='tight', dpi=200)\n",
    "plt.show()"
   ]
  },
  {
   "cell_type": "code",
   "execution_count": 18,
   "metadata": {},
   "outputs": [
    {
     "data": {
      "image/png": "[encoded data removed]",
      "text/plain": [
       "<Figure size 432x288 with 1 Axes>"
      ]
     },
     "metadata": {
      "needs_background": "light"
     },
     "output_type": "display_data"
    }
   ],
   "source": [
    "from sklearn import datasets, metrics, model_selection\n",
    "metrics.plot_roc_curve(rfmodel, X_test, y_test)  \n",
    "plt.savefig('random_forest_roc_unbalanced_model.png',bbox_inches='tight', dpi=200)\n",
    "plt.show()"
   ]
  },
  {
   "cell_type": "code",
   "execution_count": 19,
   "metadata": {},
   "outputs": [
    {
     "name": "stdout",
     "output_type": "stream",
     "text": [
      "[[0.01 0.99]]\n"
     ]
    },
    {
     "name": "stderr",
     "output_type": "stream",
     "text": [
      "/Users/madhuaithal/anaconda3/lib/python3.7/site-packages/sklearn/utils/validation.py:71: FutureWarning: Pass threshold=0.8 as keyword args. From version 0.25 passing these as positional arguments will result in an error\n",
      "  FutureWarning)\n"
     ]
    }
   ],
   "source": [
    "y_pred_prob_yes_sample=rfmodel_balanced.predict_proba(X_test_balanced.iloc[10].values.reshape(1,-1))\n",
    "y_pred2_sample=binarize(y_pred_prob_yes,8/10)[:,1]\n",
    "print(y_pred_prob_yes_sample)"
   ]
  },
  {
   "cell_type": "markdown",
   "metadata": {},
   "source": [
    "## Random Forest Classifier (Balanced training set without 'V21' attribute)"
   ]
  },
  {
   "cell_type": "code",
   "execution_count": 27,
   "metadata": {},
   "outputs": [
    {
     "name": "stdout",
     "output_type": "stream",
     "text": [
      "              precision    recall  f1-score   support\n",
      "\n",
      "           0       1.00      0.74      0.85        58\n",
      "           1       0.73      1.00      0.85        41\n",
      "\n",
      "    accuracy                           0.85        99\n",
      "   macro avg       0.87      0.87      0.85        99\n",
      "weighted avg       0.89      0.85      0.85        99\n",
      "\n"
     ]
    }
   ],
   "source": [
    "X_train_balanced, X_test_balanced, y_train_balanced, y_test_balanced = \\\n",
    "                                            train_test_split(train_df_balanced.drop(['V21','Class'],axis=1), \n",
    "                                            train_df_balanced['Class'], \n",
    "                                            test_size=0.10, \n",
    "                                            random_state=2309)\n",
    "\n",
    "from sklearn import preprocessing\n",
    "X_without_time = X_train_balanced.drop('Time',axis=1).values\n",
    "scaler = preprocessing.StandardScaler().fit(X_without_time)\n",
    "X_without_time = scaler.transform(X_without_time)\n",
    "X_time_only = np.expand_dims(X_train_balanced['Time'].values, axis=1)\n",
    "\n",
    "X_train_scaled = np.concatenate([X_time_only,X_without_time],axis=1)\n",
    "\n",
    "rfmodel_balanced = RandomForestClassifier()\n",
    "rfmodel_balanced.fit(X_train_scaled,y_train_balanced)\n",
    "\n",
    "predictions_balanced = rfmodel_balanced.predict(X_test_balanced)\n",
    "\n",
    "from sklearn.metrics import classification_report\n",
    "print(classification_report(y_test_balanced,predictions_balanced))\n",
    "\n"
   ]
  },
  {
   "cell_type": "code",
   "execution_count": 28,
   "metadata": {},
   "outputs": [],
   "source": [
    "\n",
    "# _1, X_test, _2, y_test = train_test_split(test_df.drop(['V21','Class'],axis=1), \n",
    "#                                             test_df['Class'], \n",
    "#                                             test_size=1, \n",
    "#                                             random_state=2309)\n",
    "# predictions_balanced = rfmodel_balanced.predict(X_test)"
   ]
  },
  {
   "cell_type": "code",
   "execution_count": 29,
   "metadata": {},
   "outputs": [
    {
     "data": {
      "image/png": "[encoded data removed]",
      "text/plain": [
       "<Figure size 576x360 with 2 Axes>"
      ]
     },
     "metadata": {
      "needs_background": "light"
     },
     "output_type": "display_data"
    }
   ],
   "source": [
    "from sklearn.metrics import confusion_matrix\n",
    "\n",
    "conf_matrix=confusion_matrix(y_test_balanced,predictions_balanced)\n",
    "conf_matrix_df=pd.DataFrame(data=conf_matrix,columns=['Predicted:0','Predicted:1'],index=['Actual:0','Actual:1'])\n",
    "plt.figure(figsize = (8,5))\n",
    "sns.heatmap(conf_matrix, annot=True,fmt='d');"
   ]
  },
  {
   "cell_type": "code",
   "execution_count": 30,
   "metadata": {},
   "outputs": [
    {
     "name": "stdout",
     "output_type": "stream",
     "text": [
      "precision 0.7321428571428571\n",
      "recall 1.0\n",
      "F1 score 0.8453608247422679\n"
     ]
    }
   ],
   "source": [
    "TN=conf_matrix[0,0]\n",
    "TP=conf_matrix[1,1]\n",
    "FN=conf_matrix[1,0]\n",
    "FP=conf_matrix[0,1]\n",
    "\n",
    "precision = TP/float(TP+FP)\n",
    "recall=TP/float(TP+FN)\n",
    "TNR=TN/float(TN+FP)\n",
    "f1_score = 2*precision*recall/(precision+recall)\n",
    "\n",
    "print(\"precision\", precision)\n",
    "print('recall', recall)\n",
    "print('F1 score', f1_score)"
   ]
  },
  {
   "cell_type": "code",
   "execution_count": 23,
   "metadata": {
    "scrolled": true
   },
   "outputs": [
    {
     "name": "stdout",
     "output_type": "stream",
     "text": [
      "The acuuracy of the model = TP+TN/(TP+TN+FP+FN) =           0.0 \n",
      " The Missclassification = 1-Accuracy =                      1.0 \n",
      " Sensitivity or True Positive Rate = TP/(TP+FN) =           nan \n",
      " Specificity or True Negative Rate = TN/(TN+FP) =           0.0 \n",
      " Precision (PPV) = TP/(TP+FP) =                             0.0 \n",
      " Precision for negative class (NPV) = TN/(TN+FN) =          nan \n",
      " Positive Likelihood Ratio = Sensitivity/(1-Specificity) =  nan \n",
      " Negative likelihood Ratio = (1-Sensitivity)/Specificity =  nan\n"
     ]
    },
    {
     "name": "stderr",
     "output_type": "stream",
     "text": [
      "/Users/madhuaithal/.local/lib/python3.7/site-packages/ipykernel_launcher.py:5: RuntimeWarning: invalid value encountered in true_divide\n",
      "  \"\"\"\n",
      "/Users/madhuaithal/.local/lib/python3.7/site-packages/ipykernel_launcher.py:11: RuntimeWarning: invalid value encountered in true_divide\n",
      "  # This is added back by InteractiveShellApp.init_path()\n"
     ]
    }
   ],
   "source": [
    "print('The acuuracy of the model = TP+TN/(TP+TN+FP+FN) =          ',(TP+TN)/float(TP+TN+FP+FN),'\\n',\n",
    "\n",
    "'The Missclassification = 1-Accuracy =                     ',1-((TP+TN)/float(TP+TN+FP+FN)),'\\n',\n",
    "\n",
    "'Sensitivity or True Positive Rate = TP/(TP+FN) =          ',TP/float(TP+FN),'\\n',\n",
    "\n",
    "'Specificity or True Negative Rate = TN/(TN+FP) =          ',TN/float(TN+FP),'\\n',\n",
    "\n",
    "'Precision (PPV) = TP/(TP+FP) =                            ',TP/float(TP+FP),'\\n',\n",
    "\n",
    "'Precision for negative class (NPV) = TN/(TN+FN) =         ',TN/float(TN+FN),'\\n',\n",
    "\n",
    "'Positive Likelihood Ratio = Sensitivity/(1-Specificity) = ',recall/(1-TNR),'\\n',\n",
    "\n",
    "'Negative likelihood Ratio = (1-Sensitivity)/Specificity = ',(1-recall)/TNR)"
   ]
  },
  {
   "cell_type": "code",
   "execution_count": 27,
   "metadata": {},
   "outputs": [
    {
     "data": {
      "image/png": "[encoded data removed]",
      "text/plain": [
       "<Figure size 432x288 with 1 Axes>"
      ]
     },
     "metadata": {
      "needs_background": "light"
     },
     "output_type": "display_data"
    }
   ],
   "source": [
    "from sklearn import datasets, metrics, model_selection\n",
    "metrics.plot_roc_curve(rfmodel_balanced, X_test_balanced, y_test_balanced)  \n",
    "plt.savefig('random_forest_roc_balanced_model_wo_v21.png', bbox_inches='tight', dpi=200)\n",
    "plt.show()"
   ]
  }
 ],
 "metadata": {
  "kernelspec": {
   "display_name": "Python 3",
   "language": "python",
   "name": "python3"
  },
  "language_info": {
   "codemirror_mode": {
    "name": "ipython",
    "version": 3
   },
   "file_extension": ".py",
   "mimetype": "text/x-python",
   "name": "python",
   "nbconvert_exporter": "python",
   "pygments_lexer": "ipython3",
   "version": "3.7.4"
  }
 },
 "nbformat": 4,
 "nbformat_minor": 2
}
