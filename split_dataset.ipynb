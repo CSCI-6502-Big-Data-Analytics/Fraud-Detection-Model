{
 "cells": [
  {
   "cell_type": "code",
   "execution_count": 65,
   "metadata": {},
   "outputs": [],
   "source": [
    "import os, sys\n",
    "import pandas as pd\n",
    "DATASET_DIR = '../kaggle-dataset'\n",
    "dataset_filepath = os.path.join(DATASET_DIR, 'creditcard.csv')\n",
    "df = pd.read_csv(dataset_filepath)"
   ]
  },
  {
   "cell_type": "code",
   "execution_count": 63,
   "metadata": {},
   "outputs": [],
   "source": [
    "def split_dataset(df_all, dataset_dir):\n",
    "    neg_samples_df = df_all.loc[df['Class']==0]\n",
    "    pos_samples_df = df_all.loc[df['Class']==1]\n",
    "    total_no_samples = pos_samples_df.shape[0]+neg_samples_df.shape[0]\n",
    "    train_size = int(0.9*total_no_samples)\n",
    "#     val_size = int(0.1*total_no_samples)\n",
    "\n",
    "    train_df = pd.concat([pos_samples_df[:train_size],neg_samples_df[:train_size]], ignore_index=True)\n",
    "#     val_df = pd.concat([pos_samples_df[train_size:train_size+val_size],neg_samples_df[train_size:train_size+val_size]], ignore_index=True)\n",
    "    test_df = pd.concat([pos_samples_df[train_size:],neg_samples_df[train_size:]], ignore_index=True)\n",
    "    \n",
    "    train_df.to_csv(os.path.join(DATASET_DIR, 'train.csv'))\n",
    "#     val_df.to_csv(os.path.join(DATASET_DIR, 'val.csv'))\n",
    "    test_df.to_csv(os.path.join(DATASET_DIR, 'test.csv'))\n",
    "\n",
    "#     print(df.shape[0])\n",
    "#     print(train_df.shape[0])\n",
    "#     print(test_df.shape[0])    \n",
    "#     print(val_df.shape[0])"
   ]
  },
  {
   "cell_type": "code",
   "execution_count": 64,
   "metadata": {},
   "outputs": [],
   "source": [
    "split_dataset(df, DATASET_DIR)"
   ]
  },
  {
   "cell_type": "code",
   "execution_count": 67,
   "metadata": {},
   "outputs": [
    {
     "name": "stdout",
     "output_type": "stream",
     "text": [
      "(284807, 31)\n",
      "(492, 31)\n",
      "(284315, 31)\n"
     ]
    }
   ],
   "source": [
    "print(df.shape)\n",
    "pos_df = df.loc[df['Class']==1]\n",
    "neg_df = df.loc[df['Class']==0]\n",
    "print(pos_df.shape)\n",
    "print(neg_df.shape)"
   ]
  },
  {
   "cell_type": "code",
   "execution_count": null,
   "metadata": {},
   "outputs": [],
   "source": []
  }
 ],
 "metadata": {
  "kernelspec": {
   "display_name": "Python 3",
   "language": "python",
   "name": "python3"
  },
  "language_info": {
   "codemirror_mode": {
    "name": "ipython",
    "version": 3
   },
   "file_extension": ".py",
   "mimetype": "text/x-python",
   "name": "python",
   "nbconvert_exporter": "python",
   "pygments_lexer": "ipython3",
   "version": "3.7.4"
  }
 },
 "nbformat": 4,
 "nbformat_minor": 2
}
